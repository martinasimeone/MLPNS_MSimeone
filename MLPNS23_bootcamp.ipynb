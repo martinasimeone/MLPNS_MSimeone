{
  "nbformat": 4,
  "nbformat_minor": 0,
  "metadata": {
    "colab": {
      "provenance": [],
      "collapsed_sections": [
        "PZeXSxip7EiV",
        "JAOma4eZ7K9O",
        "K2k8MTLL7NoS",
        "UDeuTDuMBXDG",
        "Gn9pd44OEh0M",
        "btGycqdDG6-I"
      ],
      "toc_visible": true,
      "authorship_tag": "ABX9TyOx7yF3sHxhJdShdQm4Lgse",
      "include_colab_link": true
    },
    "kernelspec": {
      "name": "python3",
      "display_name": "Python 3"
    },
    "language_info": {
      "name": "python"
    }
  },
  "cells": [
    {
      "cell_type": "markdown",
      "metadata": {
        "id": "view-in-github",
        "colab_type": "text"
      },
      "source": [
        "<a href=\"https://colab.research.google.com/github/martinasimeone/MLPNS_MSimeone/blob/main/MLPNS23_bootcamp.ipynb\" target=\"_parent\"><img src=\"https://colab.research.google.com/assets/colab-badge.svg\" alt=\"Open In Colab\"/></a>"
      ]
    },
    {
      "cell_type": "code",
      "execution_count": 133,
      "metadata": {
        "id": "q9_iCYLn0Svu",
        "colab": {
          "base_uri": "https://localhost:8080/"
        },
        "outputId": "1b96d563-d37c-476c-abce-3657b12d0719"
      },
      "outputs": [
        {
          "output_type": "execute_result",
          "data": {
            "text/plain": [
              "4"
            ]
          },
          "metadata": {},
          "execution_count": 133
        }
      ],
      "source": [
        "2*2"
      ]
    },
    {
      "cell_type": "markdown",
      "source": [
        "#First markdown cell\n",
        "This is a text cell in markdown syntax"
      ],
      "metadata": {
        "id": "mMU6u_m11yUR"
      }
    },
    {
      "cell_type": "markdown",
      "source": [
        "##here we start coding"
      ],
      "metadata": {
        "id": "FKK3JCa72WPY"
      }
    },
    {
      "cell_type": "markdown",
      "source": [
        "# native variables and variable types"
      ],
      "metadata": {
        "id": "n0CQaAI82uwP"
      }
    },
    {
      "cell_type": "markdown",
      "source": [
        "## integers "
      ],
      "metadata": {
        "id": "DvA8n_ma7Aqc"
      }
    },
    {
      "cell_type": "code",
      "source": [
        "intVar = 3"
      ],
      "metadata": {
        "id": "XT_Y3k-82266"
      },
      "execution_count": 134,
      "outputs": []
    },
    {
      "cell_type": "code",
      "source": [
        "type(intVar)"
      ],
      "metadata": {
        "colab": {
          "base_uri": "https://localhost:8080/"
        },
        "id": "UB_i8dey3e-0",
        "outputId": "2103f92d-30a2-406e-b35f-b094d1491c09"
      },
      "execution_count": 135,
      "outputs": [
        {
          "output_type": "execute_result",
          "data": {
            "text/plain": [
              "int"
            ]
          },
          "metadata": {},
          "execution_count": 135
        }
      ]
    },
    {
      "cell_type": "markdown",
      "source": [
        "## floats"
      ],
      "metadata": {
        "id": "PZeXSxip7EiV"
      }
    },
    {
      "cell_type": "code",
      "source": [
        "floatVar = 3.0\n",
        "type(floatVar)"
      ],
      "metadata": {
        "colab": {
          "base_uri": "https://localhost:8080/"
        },
        "id": "9zs5HSIb3nEu",
        "outputId": "fee4ffa8-a984-41df-ff52-3b1822306600"
      },
      "execution_count": 136,
      "outputs": [
        {
          "output_type": "execute_result",
          "data": {
            "text/plain": [
              "float"
            ]
          },
          "metadata": {},
          "execution_count": 136
        }
      ]
    },
    {
      "cell_type": "code",
      "source": [
        "float2Var = float(intVar)\n",
        "type(float2Var)"
      ],
      "metadata": {
        "colab": {
          "base_uri": "https://localhost:8080/"
        },
        "id": "zQ74CsAN3xHT",
        "outputId": "e427b05a-b3f9-4112-a407-082a509c1ffd"
      },
      "execution_count": 137,
      "outputs": [
        {
          "output_type": "execute_result",
          "data": {
            "text/plain": [
              "float"
            ]
          },
          "metadata": {},
          "execution_count": 137
        }
      ]
    },
    {
      "cell_type": "code",
      "source": [
        "intVar * floatVar"
      ],
      "metadata": {
        "colab": {
          "base_uri": "https://localhost:8080/"
        },
        "id": "UCbF_ig939r2",
        "outputId": "b5c0677d-4169-44db-c740-c41fc49ecaef"
      },
      "execution_count": 138,
      "outputs": [
        {
          "output_type": "execute_result",
          "data": {
            "text/plain": [
              "9.0"
            ]
          },
          "metadata": {},
          "execution_count": 138
        }
      ]
    },
    {
      "cell_type": "code",
      "source": [
        "intVar/2"
      ],
      "metadata": {
        "colab": {
          "base_uri": "https://localhost:8080/"
        },
        "id": "bqKngD4G4FsD",
        "outputId": "2edacc40-20e7-4798-fa3b-e862ac2194e2"
      },
      "execution_count": 139,
      "outputs": [
        {
          "output_type": "execute_result",
          "data": {
            "text/plain": [
              "1.5"
            ]
          },
          "metadata": {},
          "execution_count": 139
        }
      ]
    },
    {
      "cell_type": "code",
      "source": [
        "intVar + floatVar - intVar/2"
      ],
      "metadata": {
        "colab": {
          "base_uri": "https://localhost:8080/"
        },
        "id": "4tnsjEf54esE",
        "outputId": "0de7e580-508c-43b0-de14-9f2066f0c36d"
      },
      "execution_count": 140,
      "outputs": [
        {
          "output_type": "execute_result",
          "data": {
            "text/plain": [
              "4.5"
            ]
          },
          "metadata": {},
          "execution_count": 140
        }
      ]
    },
    {
      "cell_type": "code",
      "source": [
        "type(intVar + floatVar - intVar/2)"
      ],
      "metadata": {
        "colab": {
          "base_uri": "https://localhost:8080/"
        },
        "id": "o9JnVnxD4-J4",
        "outputId": "707e967d-d7e1-4792-9672-afc1c4306c5a"
      },
      "execution_count": 141,
      "outputs": [
        {
          "output_type": "execute_result",
          "data": {
            "text/plain": [
              "float"
            ]
          },
          "metadata": {},
          "execution_count": 141
        }
      ]
    },
    {
      "cell_type": "markdown",
      "source": [
        "## strings"
      ],
      "metadata": {
        "id": "JAOma4eZ7K9O"
      }
    },
    {
      "cell_type": "code",
      "source": [
        "(intVar + floatVar - intVar)/2"
      ],
      "metadata": {
        "colab": {
          "base_uri": "https://localhost:8080/"
        },
        "id": "3v5CaZav5EPx",
        "outputId": "accf0a1a-684a-4895-a458-53b6930ccbe6"
      },
      "execution_count": 142,
      "outputs": [
        {
          "output_type": "execute_result",
          "data": {
            "text/plain": [
              "1.5"
            ]
          },
          "metadata": {},
          "execution_count": 142
        }
      ]
    },
    {
      "cell_type": "code",
      "source": [
        "print(\"'Hello World'\")"
      ],
      "metadata": {
        "colab": {
          "base_uri": "https://localhost:8080/"
        },
        "id": "LCtMaKNw5Txo",
        "outputId": "518776bf-a29a-48bb-eaa6-0c1401dc775f"
      },
      "execution_count": 143,
      "outputs": [
        {
          "output_type": "stream",
          "name": "stdout",
          "text": [
            "'Hello World'\n"
          ]
        }
      ]
    },
    {
      "cell_type": "code",
      "source": [
        "print('''Hello \n",
        "World :) ''')"
      ],
      "metadata": {
        "colab": {
          "base_uri": "https://localhost:8080/"
        },
        "id": "6hPsFjxJ5l6A",
        "outputId": "8d11cff3-b8ce-4988-e39e-c8764b14f5c7"
      },
      "execution_count": 144,
      "outputs": [
        {
          "output_type": "stream",
          "name": "stdout",
          "text": [
            "Hello \n",
            "World :) \n"
          ]
        }
      ]
    },
    {
      "cell_type": "code",
      "source": [
        "strVar = 'Hello World'"
      ],
      "metadata": {
        "id": "nQgFKgSx6Tn9"
      },
      "execution_count": 145,
      "outputs": []
    },
    {
      "cell_type": "code",
      "source": [
        "print(strVar)"
      ],
      "metadata": {
        "colab": {
          "base_uri": "https://localhost:8080/"
        },
        "id": "rZvGguuZ6jnp",
        "outputId": "0219a1b3-c301-4123-f95a-23586e041694"
      },
      "execution_count": 146,
      "outputs": [
        {
          "output_type": "stream",
          "name": "stdout",
          "text": [
            "Hello World\n"
          ]
        }
      ]
    },
    {
      "cell_type": "markdown",
      "source": [
        "## boolean variables"
      ],
      "metadata": {
        "id": "K2k8MTLL7NoS"
      }
    },
    {
      "cell_type": "code",
      "source": [
        "True "
      ],
      "metadata": {
        "colab": {
          "base_uri": "https://localhost:8080/"
        },
        "id": "BZHwOCXF7RBm",
        "outputId": "1eeccfac-b3fc-4fcf-a2d1-2eddff992f20"
      },
      "execution_count": 147,
      "outputs": [
        {
          "output_type": "execute_result",
          "data": {
            "text/plain": [
              "True"
            ]
          },
          "metadata": {},
          "execution_count": 147
        }
      ]
    },
    {
      "cell_type": "code",
      "source": [
        "False "
      ],
      "metadata": {
        "colab": {
          "base_uri": "https://localhost:8080/"
        },
        "id": "fzfjTu4K7gV6",
        "outputId": "9a8f3b22-de98-41ae-c7a1-30a97b98ae96"
      },
      "execution_count": 148,
      "outputs": [
        {
          "output_type": "execute_result",
          "data": {
            "text/plain": [
              "False"
            ]
          },
          "metadata": {},
          "execution_count": 148
        }
      ]
    },
    {
      "cell_type": "code",
      "source": [
        "intVar == floatVar "
      ],
      "metadata": {
        "colab": {
          "base_uri": "https://localhost:8080/"
        },
        "id": "1klA8FSd8wGS",
        "outputId": "0255dd94-2a20-403e-9323-d8756328f2d3"
      },
      "execution_count": 149,
      "outputs": [
        {
          "output_type": "execute_result",
          "data": {
            "text/plain": [
              "True"
            ]
          },
          "metadata": {},
          "execution_count": 149
        }
      ]
    },
    {
      "cell_type": "code",
      "source": [
        "if intVar == floatVar:\n",
        "  print('this is true')\n",
        "  print(intVar * floatVar)\n",
        "else:\n",
        "  print('condition was false')"
      ],
      "metadata": {
        "colab": {
          "base_uri": "https://localhost:8080/"
        },
        "id": "Bn_mKYpj7ml6",
        "outputId": "33a37413-81b7-4681-b1f8-50333b70670e"
      },
      "execution_count": 150,
      "outputs": [
        {
          "output_type": "stream",
          "name": "stdout",
          "text": [
            "this is true\n",
            "9.0\n"
          ]
        }
      ]
    },
    {
      "cell_type": "code",
      "source": [
        "if intVar > floatVar:\n",
        "  print('this is true')\n",
        "  print(intVar * floatVar)\n",
        "else:\n",
        "  print('condition was false')"
      ],
      "metadata": {
        "colab": {
          "base_uri": "https://localhost:8080/"
        },
        "id": "4mCofhs78NC0",
        "outputId": "486e3c3e-51b8-4c23-c521-46b63fa4e228"
      },
      "execution_count": 151,
      "outputs": [
        {
          "output_type": "stream",
          "name": "stdout",
          "text": [
            "condition was false\n"
          ]
        }
      ]
    },
    {
      "cell_type": "code",
      "source": [
        "# == is equal\n",
        "print(intVar == floatVar)\n",
        "# > maggiore\n",
        "print(intVar > floatVar)\n",
        "# < minore\n",
        "print(intVar < floatVar)\n",
        "# != not equal\n",
        "print(intVar != floatVar)"
      ],
      "metadata": {
        "colab": {
          "base_uri": "https://localhost:8080/"
        },
        "id": "Z8b25Dw59g6u",
        "outputId": "ac8bdfd8-e7b8-4066-e16d-ccd2fbca677c"
      },
      "execution_count": 152,
      "outputs": [
        {
          "output_type": "stream",
          "name": "stdout",
          "text": [
            "True\n",
            "False\n",
            "False\n",
            "False\n"
          ]
        }
      ]
    },
    {
      "cell_type": "code",
      "source": [
        "# & is logical AND\n",
        "(intVar > floatVar) & (intVar == floatVar)\n",
        "# | is logical OR\n",
        "(intVar > floatVar) | (intVar == floatVar)"
      ],
      "metadata": {
        "colab": {
          "base_uri": "https://localhost:8080/"
        },
        "id": "AW8v5dDe9mgM",
        "outputId": "d189e0e2-547f-4836-9605-1c57acd81558"
      },
      "execution_count": 153,
      "outputs": [
        {
          "output_type": "execute_result",
          "data": {
            "text/plain": [
              "True"
            ]
          },
          "metadata": {},
          "execution_count": 153
        }
      ]
    },
    {
      "cell_type": "code",
      "source": [
        "False == 0\n",
        "True == 1"
      ],
      "metadata": {
        "colab": {
          "base_uri": "https://localhost:8080/"
        },
        "id": "aSYJmvFr-eiy",
        "outputId": "14f5de69-0756-41d2-c08a-552946db3e8c"
      },
      "execution_count": 154,
      "outputs": [
        {
          "output_type": "execute_result",
          "data": {
            "text/plain": [
              "True"
            ]
          },
          "metadata": {},
          "execution_count": 154
        }
      ]
    },
    {
      "cell_type": "code",
      "source": [
        "# * is logical AND\n",
        "# + is logical OR \n",
        "if (intVar > floatVar) * (intVar == floatVar): \n",
        "  print('True')\n",
        "else:\n",
        "  print('False')"
      ],
      "metadata": {
        "colab": {
          "base_uri": "https://localhost:8080/"
        },
        "id": "L-Y8g7UM-iFr",
        "outputId": "34f5d573-5c6b-4254-b51f-fea65fe0a1e7"
      },
      "execution_count": 155,
      "outputs": [
        {
          "output_type": "stream",
          "name": "stdout",
          "text": [
            "False\n"
          ]
        }
      ]
    },
    {
      "cell_type": "code",
      "source": [
        "if 2:\n",
        "  print('something')"
      ],
      "metadata": {
        "colab": {
          "base_uri": "https://localhost:8080/"
        },
        "id": "Pi_yqIio_l03",
        "outputId": "47206178-5e4a-4d72-f206-38f131d54be5"
      },
      "execution_count": 156,
      "outputs": [
        {
          "output_type": "stream",
          "name": "stdout",
          "text": [
            "something\n"
          ]
        }
      ]
    },
    {
      "cell_type": "code",
      "source": [
        "for i in range(1,10):\n",
        "  print(i)"
      ],
      "metadata": {
        "colab": {
          "base_uri": "https://localhost:8080/"
        },
        "id": "m_S-hIG4Bdea",
        "outputId": "00e5a65a-38a3-4658-ee16-77eb9c0c9712"
      },
      "execution_count": 157,
      "outputs": [
        {
          "output_type": "stream",
          "name": "stdout",
          "text": [
            "1\n",
            "2\n",
            "3\n",
            "4\n",
            "5\n",
            "6\n",
            "7\n",
            "8\n",
            "9\n"
          ]
        }
      ]
    },
    {
      "cell_type": "code",
      "source": [
        "for i in range(1,10,3):\n",
        "  print(i)"
      ],
      "metadata": {
        "colab": {
          "base_uri": "https://localhost:8080/"
        },
        "id": "0ZNZy1PKCXMW",
        "outputId": "f0daab50-7e48-4add-f0dd-b72fba3e9e6f"
      },
      "execution_count": 158,
      "outputs": [
        {
          "output_type": "stream",
          "name": "stdout",
          "text": [
            "1\n",
            "4\n",
            "7\n"
          ]
        }
      ]
    },
    {
      "cell_type": "markdown",
      "source": [
        "##variable as object"
      ],
      "metadata": {
        "id": "UDeuTDuMBXDG"
      }
    },
    {
      "cell_type": "code",
      "source": [
        "strVar = 'hello world'"
      ],
      "metadata": {
        "id": "wyfS_I6v_qz3"
      },
      "execution_count": 159,
      "outputs": []
    },
    {
      "cell_type": "code",
      "source": [
        "strVar.capitalize()"
      ],
      "metadata": {
        "colab": {
          "base_uri": "https://localhost:8080/",
          "height": 0
        },
        "id": "gn-qOqwVCsiR",
        "outputId": "c83705ea-35bd-4eb1-ccf0-17776a445f37"
      },
      "execution_count": 160,
      "outputs": [
        {
          "output_type": "execute_result",
          "data": {
            "text/plain": [
              "'Hello world'"
            ],
            "application/vnd.google.colaboratory.intrinsic+json": {
              "type": "string"
            }
          },
          "metadata": {},
          "execution_count": 160
        }
      ]
    },
    {
      "cell_type": "code",
      "source": [
        "strVar.upper()"
      ],
      "metadata": {
        "colab": {
          "base_uri": "https://localhost:8080/",
          "height": 0
        },
        "id": "yPEKNiJuDGWc",
        "outputId": "9de2955b-e952-4ab6-8096-e26d9e5b3150"
      },
      "execution_count": 161,
      "outputs": [
        {
          "output_type": "execute_result",
          "data": {
            "text/plain": [
              "'HELLO WORLD'"
            ],
            "application/vnd.google.colaboratory.intrinsic+json": {
              "type": "string"
            }
          },
          "metadata": {},
          "execution_count": 161
        }
      ]
    },
    {
      "cell_type": "code",
      "source": [
        "strVar.isdigit()\n",
        "#è vero se rè un numero"
      ],
      "metadata": {
        "colab": {
          "base_uri": "https://localhost:8080/"
        },
        "id": "oNgmtbHHDOBQ",
        "outputId": "87c52e36-1171-45ee-ad57-c3e2f7be466a"
      },
      "execution_count": 162,
      "outputs": [
        {
          "output_type": "execute_result",
          "data": {
            "text/plain": [
              "False"
            ]
          },
          "metadata": {},
          "execution_count": 162
        }
      ]
    },
    {
      "cell_type": "code",
      "source": [
        "\"3\".isdigit()"
      ],
      "metadata": {
        "colab": {
          "base_uri": "https://localhost:8080/"
        },
        "id": "--IuEhNWDUW5",
        "outputId": "001e6019-e000-429f-9a50-8f744fdbeb7e"
      },
      "execution_count": 163,
      "outputs": [
        {
          "output_type": "execute_result",
          "data": {
            "text/plain": [
              "True"
            ]
          },
          "metadata": {},
          "execution_count": 163
        }
      ]
    },
    {
      "cell_type": "code",
      "source": [
        "floatVar.is_integer()"
      ],
      "metadata": {
        "colab": {
          "base_uri": "https://localhost:8080/"
        },
        "id": "8-zXaTskDldn",
        "outputId": "e4b07320-11a8-43f9-b3aa-8d2644f532a3"
      },
      "execution_count": 164,
      "outputs": [
        {
          "output_type": "execute_result",
          "data": {
            "text/plain": [
              "True"
            ]
          },
          "metadata": {},
          "execution_count": 164
        }
      ]
    },
    {
      "cell_type": "markdown",
      "source": [
        "##list"
      ],
      "metadata": {
        "id": "Gn9pd44OEh0M"
      }
    },
    {
      "cell_type": "code",
      "source": [
        "listVar = [intVar, floatVar, strVar, 0, True]\n",
        "listVar"
      ],
      "metadata": {
        "colab": {
          "base_uri": "https://localhost:8080/"
        },
        "id": "f7k_25rPEkc-",
        "outputId": "18b63f1e-ccf8-421a-88dc-1430a6ed92eb"
      },
      "execution_count": 165,
      "outputs": [
        {
          "output_type": "execute_result",
          "data": {
            "text/plain": [
              "[3, 3.0, 'hello world', 0, True]"
            ]
          },
          "metadata": {},
          "execution_count": 165
        }
      ]
    },
    {
      "cell_type": "code",
      "source": [
        "listVar.append(11)\n",
        "listVar"
      ],
      "metadata": {
        "colab": {
          "base_uri": "https://localhost:8080/"
        },
        "id": "cYxjWV_QEwZx",
        "outputId": "85ebd5b2-e1cc-4ba5-fed7-7bb4ff4414f5"
      },
      "execution_count": 166,
      "outputs": [
        {
          "output_type": "execute_result",
          "data": {
            "text/plain": [
              "[3, 3.0, 'hello world', 0, True, 11]"
            ]
          },
          "metadata": {},
          "execution_count": 166
        }
      ]
    },
    {
      "cell_type": "code",
      "source": [
        "listVar[0]"
      ],
      "metadata": {
        "colab": {
          "base_uri": "https://localhost:8080/"
        },
        "id": "0rS-Fl7DE468",
        "outputId": "f44855d8-6806-4adb-9d76-bfe3cdd7a87e"
      },
      "execution_count": 167,
      "outputs": [
        {
          "output_type": "execute_result",
          "data": {
            "text/plain": [
              "3"
            ]
          },
          "metadata": {},
          "execution_count": 167
        }
      ]
    },
    {
      "cell_type": "code",
      "source": [
        "strVar[0]"
      ],
      "metadata": {
        "colab": {
          "base_uri": "https://localhost:8080/",
          "height": 0
        },
        "id": "mgFVi5ARFQNB",
        "outputId": "eded90ff-e1d9-4325-f9bb-4d48a1c501f7"
      },
      "execution_count": 168,
      "outputs": [
        {
          "output_type": "execute_result",
          "data": {
            "text/plain": [
              "'h'"
            ],
            "application/vnd.google.colaboratory.intrinsic+json": {
              "type": "string"
            }
          },
          "metadata": {},
          "execution_count": 168
        }
      ]
    },
    {
      "cell_type": "code",
      "source": [
        "'h' in strVar"
      ],
      "metadata": {
        "colab": {
          "base_uri": "https://localhost:8080/"
        },
        "id": "4MyqJx5oFXD4",
        "outputId": "71489108-44c1-4508-90c6-1e2551528e02"
      },
      "execution_count": 169,
      "outputs": [
        {
          "output_type": "execute_result",
          "data": {
            "text/plain": [
              "True"
            ]
          },
          "metadata": {},
          "execution_count": 169
        }
      ]
    },
    {
      "cell_type": "code",
      "source": [
        "'64' in listVar"
      ],
      "metadata": {
        "colab": {
          "base_uri": "https://localhost:8080/"
        },
        "id": "d_P7NyAnFjrM",
        "outputId": "f294dbe7-2a9e-4502-f45c-7c63ef3d5595"
      },
      "execution_count": 170,
      "outputs": [
        {
          "output_type": "execute_result",
          "data": {
            "text/plain": [
              "False"
            ]
          },
          "metadata": {},
          "execution_count": 170
        }
      ]
    },
    {
      "cell_type": "code",
      "source": [
        "listVar[1] = 9"
      ],
      "metadata": {
        "id": "znEV2l72Fokl"
      },
      "execution_count": 171,
      "outputs": []
    },
    {
      "cell_type": "code",
      "source": [],
      "metadata": {
        "id": "059uhS9gF2ax"
      },
      "execution_count": 171,
      "outputs": []
    },
    {
      "cell_type": "markdown",
      "source": [
        "# Primo Esercizio: WORDLE \n",
        "parola target di 5 lettere"
      ],
      "metadata": {
        "id": "btGycqdDG6-I"
      }
    },
    {
      "cell_type": "code",
      "source": [
        "target = 'acres'\n",
        "guess = 'arces'\n",
        "risultato = ['_','_','_','_','_']\n",
        "\n",
        "guess= guess.lower()\n",
        "\n",
        "if len(guess)!= 5:\n",
        "  print('La parola deve essere di 5 lettere')\n",
        "\n",
        "else:\n",
        "  for i in range(0,5):\n",
        "    if target[i] in guess:\n",
        "      for j in range(0,5):\n",
        "        if (target[i] == guess[j]) & (i==j):\n",
        "          risultato[j] = target[i] \n",
        "        if (target[i] == guess[j]) & (i!=j):\n",
        "          risultato[j] = '*' \n",
        "  risultato = ''.join(risultato)\n",
        "  print(risultato)"
      ],
      "metadata": {
        "colab": {
          "base_uri": "https://localhost:8080/"
        },
        "id": "V25A34GXHUOb",
        "outputId": "073c578e-84e4-4f21-d94e-f6233eabdd4a"
      },
      "execution_count": 172,
      "outputs": [
        {
          "output_type": "stream",
          "name": "stdout",
          "text": [
            "a**es\n"
          ]
        }
      ]
    },
    {
      "cell_type": "markdown",
      "source": [
        "#Function"
      ],
      "metadata": {
        "id": "zeNLhCnGPILv"
      }
    },
    {
      "cell_type": "markdown",
      "source": [
        "# importing packages"
      ],
      "metadata": {
        "id": "GfuQYzMVSaj-"
      }
    },
    {
      "cell_type": "markdown",
      "source": [
        "typical packages that we will see\n",
        "### pandas\n",
        "  manipulation of tabular data\n",
        "### numpy\n",
        "  manipulation of numerical data\n",
        "### scipy \n",
        "  statistics (also statsmodel)\n",
        "### matplotlib (pylab)\n",
        "  visualization and plotting \n",
        "###sklearn\n",
        "machine learning\n",
        "### tensor flow\n",
        "neural networs"
      ],
      "metadata": {
        "id": "VT-ritFDS2TM"
      }
    },
    {
      "cell_type": "code",
      "source": [
        "import pandas as pd\n",
        "##from pandas import read_csv"
      ],
      "metadata": {
        "id": "2IiJIZY2S29a"
      },
      "execution_count": 173,
      "outputs": []
    },
    {
      "cell_type": "code",
      "source": [
        "url ='https://raw.githubusercontent.com/fedhere/PyBOOT/master/311_Service_Requests_from_2010_to_Present.csv'"
      ],
      "metadata": {
        "id": "LjxFOYNlTTnM"
      },
      "execution_count": 174,
      "outputs": []
    },
    {
      "cell_type": "code",
      "source": [
        "df = pd.read_csv(url)"
      ],
      "metadata": {
        "id": "t4QNcYApVGYM"
      },
      "execution_count": 175,
      "outputs": []
    },
    {
      "cell_type": "code",
      "source": [
        "df"
      ],
      "metadata": {
        "colab": {
          "base_uri": "https://localhost:8080/",
          "height": 870
        },
        "id": "aJdJNG8nVPCO",
        "outputId": "1a7bea41-40d6-447a-da3b-62df53730390"
      },
      "execution_count": 176,
      "outputs": [
        {
          "output_type": "execute_result",
          "data": {
            "text/plain": [
              "     Unique Key            Created Date             Closed Date Agency  \\\n",
              "0      54049402  05/01/2022 12:00:03 AM                     NaN   NYPD   \n",
              "1      54046813  05/01/2022 12:00:09 AM  05/01/2022 12:07:46 AM   NYPD   \n",
              "2      54045643  05/01/2022 12:00:17 AM  05/01/2022 12:10:38 AM   NYPD   \n",
              "3      54051838  05/01/2022 12:00:21 AM  05/01/2022 12:53:23 AM   NYPD   \n",
              "4      54052808  05/01/2022 12:00:25 AM  05/01/2022 01:01:47 AM   NYPD   \n",
              "..          ...                     ...                     ...    ...   \n",
              "919    54049386  05/01/2022 02:04:45 AM                     NaN   NYPD   \n",
              "920    54049413  05/01/2022 02:05:35 AM                     NaN   NYPD   \n",
              "921    54052476  05/01/2022 02:05:38 AM                     NaN   NYPD   \n",
              "922    54053504  05/01/2022 02:06:13 AM                     NaN   NYPD   \n",
              "923    54048300  05/01/2022 02:06:26 AM                     NaN   NYPD   \n",
              "\n",
              "                         Agency Name           Complaint Type  \\\n",
              "0    New York City Police Department      Noise - Residential   \n",
              "1    New York City Police Department  Noise - Street/Sidewalk   \n",
              "2    New York City Police Department      Noise - Residential   \n",
              "3    New York City Police Department         Blocked Driveway   \n",
              "4    New York City Police Department          Illegal Parking   \n",
              "..                               ...                      ...   \n",
              "919  New York City Police Department      Noise - Residential   \n",
              "920  New York City Police Department  Noise - Street/Sidewalk   \n",
              "921  New York City Police Department      Noise - Residential   \n",
              "922  New York City Police Department          Illegal Parking   \n",
              "923  New York City Police Department          Noise - Vehicle   \n",
              "\n",
              "                       Descriptor               Location Type  Incident Zip  \\\n",
              "0                Loud Music/Party  Residential Building/House       10452.0   \n",
              "1                Loud Music/Party             Street/Sidewalk       10027.0   \n",
              "2                Loud Music/Party  Residential Building/House       10033.0   \n",
              "3                  Partial Access             Street/Sidewalk       11214.0   \n",
              "4    Commercial Overnight Parking             Street/Sidewalk       10304.0   \n",
              "..                            ...                         ...           ...   \n",
              "919              Loud Music/Party  Residential Building/House       10031.0   \n",
              "920              Loud Music/Party             Street/Sidewalk       11231.0   \n",
              "921              Loud Music/Party  Residential Building/House       11208.0   \n",
              "922  Overnight Commercial Storage             Street/Sidewalk       11373.0   \n",
              "923               Car/Truck Music             Street/Sidewalk       11210.0   \n",
              "\n",
              "             Incident Address  ... Vehicle Type Taxi Company Borough  \\\n",
              "0          1006 GERARD AVENUE  ...          NaN                  NaN   \n",
              "1        364 WEST  127 STREET  ...          NaN                  NaN   \n",
              "2    593 FT WASHINGTON AVENUE  ...          NaN                  NaN   \n",
              "3              8106 17 AVENUE  ...          NaN                  NaN   \n",
              "4           935 TARGEE STREET  ...          NaN                  NaN   \n",
              "..                        ...  ...          ...                  ...   \n",
              "919      514 WEST  136 STREET  ...          NaN                  NaN   \n",
              "920       151 RICHARDS STREET  ...          NaN                  NaN   \n",
              "921         37 HEMLOCK STREET  ...          NaN                  NaN   \n",
              "922        60-42 BOOTH STREET  ...          NaN                  NaN   \n",
              "923      723 EAST   27 STREET  ...          NaN                  NaN   \n",
              "\n",
              "    Taxi Pick Up Location Bridge Highway Name Bridge Highway Direction  \\\n",
              "0                     NaN                 NaN                      NaN   \n",
              "1                     NaN                 NaN                      NaN   \n",
              "2                     NaN                 NaN                      NaN   \n",
              "3                     NaN                 NaN                      NaN   \n",
              "4                     NaN                 NaN                      NaN   \n",
              "..                    ...                 ...                      ...   \n",
              "919                   NaN                 NaN                      NaN   \n",
              "920                   NaN                 NaN                      NaN   \n",
              "921                   NaN                 NaN                      NaN   \n",
              "922                   NaN                 NaN                      NaN   \n",
              "923                   NaN                 NaN                      NaN   \n",
              "\n",
              "    Road Ramp Bridge Highway Segment   Latitude  Longitude  \\\n",
              "0         NaN                    NaN  40.830653 -73.923082   \n",
              "1         NaN                    NaN  40.812378 -73.952401   \n",
              "2         NaN                    NaN  40.854714 -73.937026   \n",
              "3         NaN                    NaN  40.611332 -74.002028   \n",
              "4         NaN                    NaN  40.605614 -74.090992   \n",
              "..        ...                    ...        ...        ...   \n",
              "919       NaN                    NaN  40.820160 -73.953158   \n",
              "920       NaN                    NaN  40.676566 -74.011100   \n",
              "921       NaN                    NaN  40.688911 -73.872353   \n",
              "922       NaN                    NaN  40.731194 -73.869533   \n",
              "923       NaN                    NaN  40.633076 -73.950965   \n",
              "\n",
              "                                     Location  \n",
              "0     (40.83065331987539, -73.92308231033165)  \n",
              "1     (40.81237834836466, -73.95240115039357)  \n",
              "2    (40.854713655427595, -73.93702585036192)  \n",
              "3    (40.611331690801165, -74.00202773560115)  \n",
              "4    (40.605613964168455, -74.09099181031843)  \n",
              "..                                        ...  \n",
              "919   (40.82015993990901, -73.95315791994004)  \n",
              "920    (40.6765664690211, -74.01110036402942)  \n",
              "921   (40.68891081481749, -73.87235278581583)  \n",
              "922   (40.73119351356087, -73.86953320857873)  \n",
              "923  (40.633076468003175, -73.95096540810518)  \n",
              "\n",
              "[924 rows x 41 columns]"
            ],
            "text/html": [
              "\n",
              "  <div id=\"df-6fbf4039-8bb2-4f35-91ca-7a3153854d92\">\n",
              "    <div class=\"colab-df-container\">\n",
              "      <div>\n",
              "<style scoped>\n",
              "    .dataframe tbody tr th:only-of-type {\n",
              "        vertical-align: middle;\n",
              "    }\n",
              "\n",
              "    .dataframe tbody tr th {\n",
              "        vertical-align: top;\n",
              "    }\n",
              "\n",
              "    .dataframe thead th {\n",
              "        text-align: right;\n",
              "    }\n",
              "</style>\n",
              "<table border=\"1\" class=\"dataframe\">\n",
              "  <thead>\n",
              "    <tr style=\"text-align: right;\">\n",
              "      <th></th>\n",
              "      <th>Unique Key</th>\n",
              "      <th>Created Date</th>\n",
              "      <th>Closed Date</th>\n",
              "      <th>Agency</th>\n",
              "      <th>Agency Name</th>\n",
              "      <th>Complaint Type</th>\n",
              "      <th>Descriptor</th>\n",
              "      <th>Location Type</th>\n",
              "      <th>Incident Zip</th>\n",
              "      <th>Incident Address</th>\n",
              "      <th>...</th>\n",
              "      <th>Vehicle Type</th>\n",
              "      <th>Taxi Company Borough</th>\n",
              "      <th>Taxi Pick Up Location</th>\n",
              "      <th>Bridge Highway Name</th>\n",
              "      <th>Bridge Highway Direction</th>\n",
              "      <th>Road Ramp</th>\n",
              "      <th>Bridge Highway Segment</th>\n",
              "      <th>Latitude</th>\n",
              "      <th>Longitude</th>\n",
              "      <th>Location</th>\n",
              "    </tr>\n",
              "  </thead>\n",
              "  <tbody>\n",
              "    <tr>\n",
              "      <th>0</th>\n",
              "      <td>54049402</td>\n",
              "      <td>05/01/2022 12:00:03 AM</td>\n",
              "      <td>NaN</td>\n",
              "      <td>NYPD</td>\n",
              "      <td>New York City Police Department</td>\n",
              "      <td>Noise - Residential</td>\n",
              "      <td>Loud Music/Party</td>\n",
              "      <td>Residential Building/House</td>\n",
              "      <td>10452.0</td>\n",
              "      <td>1006 GERARD AVENUE</td>\n",
              "      <td>...</td>\n",
              "      <td>NaN</td>\n",
              "      <td>NaN</td>\n",
              "      <td>NaN</td>\n",
              "      <td>NaN</td>\n",
              "      <td>NaN</td>\n",
              "      <td>NaN</td>\n",
              "      <td>NaN</td>\n",
              "      <td>40.830653</td>\n",
              "      <td>-73.923082</td>\n",
              "      <td>(40.83065331987539, -73.92308231033165)</td>\n",
              "    </tr>\n",
              "    <tr>\n",
              "      <th>1</th>\n",
              "      <td>54046813</td>\n",
              "      <td>05/01/2022 12:00:09 AM</td>\n",
              "      <td>05/01/2022 12:07:46 AM</td>\n",
              "      <td>NYPD</td>\n",
              "      <td>New York City Police Department</td>\n",
              "      <td>Noise - Street/Sidewalk</td>\n",
              "      <td>Loud Music/Party</td>\n",
              "      <td>Street/Sidewalk</td>\n",
              "      <td>10027.0</td>\n",
              "      <td>364 WEST  127 STREET</td>\n",
              "      <td>...</td>\n",
              "      <td>NaN</td>\n",
              "      <td>NaN</td>\n",
              "      <td>NaN</td>\n",
              "      <td>NaN</td>\n",
              "      <td>NaN</td>\n",
              "      <td>NaN</td>\n",
              "      <td>NaN</td>\n",
              "      <td>40.812378</td>\n",
              "      <td>-73.952401</td>\n",
              "      <td>(40.81237834836466, -73.95240115039357)</td>\n",
              "    </tr>\n",
              "    <tr>\n",
              "      <th>2</th>\n",
              "      <td>54045643</td>\n",
              "      <td>05/01/2022 12:00:17 AM</td>\n",
              "      <td>05/01/2022 12:10:38 AM</td>\n",
              "      <td>NYPD</td>\n",
              "      <td>New York City Police Department</td>\n",
              "      <td>Noise - Residential</td>\n",
              "      <td>Loud Music/Party</td>\n",
              "      <td>Residential Building/House</td>\n",
              "      <td>10033.0</td>\n",
              "      <td>593 FT WASHINGTON AVENUE</td>\n",
              "      <td>...</td>\n",
              "      <td>NaN</td>\n",
              "      <td>NaN</td>\n",
              "      <td>NaN</td>\n",
              "      <td>NaN</td>\n",
              "      <td>NaN</td>\n",
              "      <td>NaN</td>\n",
              "      <td>NaN</td>\n",
              "      <td>40.854714</td>\n",
              "      <td>-73.937026</td>\n",
              "      <td>(40.854713655427595, -73.93702585036192)</td>\n",
              "    </tr>\n",
              "    <tr>\n",
              "      <th>3</th>\n",
              "      <td>54051838</td>\n",
              "      <td>05/01/2022 12:00:21 AM</td>\n",
              "      <td>05/01/2022 12:53:23 AM</td>\n",
              "      <td>NYPD</td>\n",
              "      <td>New York City Police Department</td>\n",
              "      <td>Blocked Driveway</td>\n",
              "      <td>Partial Access</td>\n",
              "      <td>Street/Sidewalk</td>\n",
              "      <td>11214.0</td>\n",
              "      <td>8106 17 AVENUE</td>\n",
              "      <td>...</td>\n",
              "      <td>NaN</td>\n",
              "      <td>NaN</td>\n",
              "      <td>NaN</td>\n",
              "      <td>NaN</td>\n",
              "      <td>NaN</td>\n",
              "      <td>NaN</td>\n",
              "      <td>NaN</td>\n",
              "      <td>40.611332</td>\n",
              "      <td>-74.002028</td>\n",
              "      <td>(40.611331690801165, -74.00202773560115)</td>\n",
              "    </tr>\n",
              "    <tr>\n",
              "      <th>4</th>\n",
              "      <td>54052808</td>\n",
              "      <td>05/01/2022 12:00:25 AM</td>\n",
              "      <td>05/01/2022 01:01:47 AM</td>\n",
              "      <td>NYPD</td>\n",
              "      <td>New York City Police Department</td>\n",
              "      <td>Illegal Parking</td>\n",
              "      <td>Commercial Overnight Parking</td>\n",
              "      <td>Street/Sidewalk</td>\n",
              "      <td>10304.0</td>\n",
              "      <td>935 TARGEE STREET</td>\n",
              "      <td>...</td>\n",
              "      <td>NaN</td>\n",
              "      <td>NaN</td>\n",
              "      <td>NaN</td>\n",
              "      <td>NaN</td>\n",
              "      <td>NaN</td>\n",
              "      <td>NaN</td>\n",
              "      <td>NaN</td>\n",
              "      <td>40.605614</td>\n",
              "      <td>-74.090992</td>\n",
              "      <td>(40.605613964168455, -74.09099181031843)</td>\n",
              "    </tr>\n",
              "    <tr>\n",
              "      <th>...</th>\n",
              "      <td>...</td>\n",
              "      <td>...</td>\n",
              "      <td>...</td>\n",
              "      <td>...</td>\n",
              "      <td>...</td>\n",
              "      <td>...</td>\n",
              "      <td>...</td>\n",
              "      <td>...</td>\n",
              "      <td>...</td>\n",
              "      <td>...</td>\n",
              "      <td>...</td>\n",
              "      <td>...</td>\n",
              "      <td>...</td>\n",
              "      <td>...</td>\n",
              "      <td>...</td>\n",
              "      <td>...</td>\n",
              "      <td>...</td>\n",
              "      <td>...</td>\n",
              "      <td>...</td>\n",
              "      <td>...</td>\n",
              "      <td>...</td>\n",
              "    </tr>\n",
              "    <tr>\n",
              "      <th>919</th>\n",
              "      <td>54049386</td>\n",
              "      <td>05/01/2022 02:04:45 AM</td>\n",
              "      <td>NaN</td>\n",
              "      <td>NYPD</td>\n",
              "      <td>New York City Police Department</td>\n",
              "      <td>Noise - Residential</td>\n",
              "      <td>Loud Music/Party</td>\n",
              "      <td>Residential Building/House</td>\n",
              "      <td>10031.0</td>\n",
              "      <td>514 WEST  136 STREET</td>\n",
              "      <td>...</td>\n",
              "      <td>NaN</td>\n",
              "      <td>NaN</td>\n",
              "      <td>NaN</td>\n",
              "      <td>NaN</td>\n",
              "      <td>NaN</td>\n",
              "      <td>NaN</td>\n",
              "      <td>NaN</td>\n",
              "      <td>40.820160</td>\n",
              "      <td>-73.953158</td>\n",
              "      <td>(40.82015993990901, -73.95315791994004)</td>\n",
              "    </tr>\n",
              "    <tr>\n",
              "      <th>920</th>\n",
              "      <td>54049413</td>\n",
              "      <td>05/01/2022 02:05:35 AM</td>\n",
              "      <td>NaN</td>\n",
              "      <td>NYPD</td>\n",
              "      <td>New York City Police Department</td>\n",
              "      <td>Noise - Street/Sidewalk</td>\n",
              "      <td>Loud Music/Party</td>\n",
              "      <td>Street/Sidewalk</td>\n",
              "      <td>11231.0</td>\n",
              "      <td>151 RICHARDS STREET</td>\n",
              "      <td>...</td>\n",
              "      <td>NaN</td>\n",
              "      <td>NaN</td>\n",
              "      <td>NaN</td>\n",
              "      <td>NaN</td>\n",
              "      <td>NaN</td>\n",
              "      <td>NaN</td>\n",
              "      <td>NaN</td>\n",
              "      <td>40.676566</td>\n",
              "      <td>-74.011100</td>\n",
              "      <td>(40.6765664690211, -74.01110036402942)</td>\n",
              "    </tr>\n",
              "    <tr>\n",
              "      <th>921</th>\n",
              "      <td>54052476</td>\n",
              "      <td>05/01/2022 02:05:38 AM</td>\n",
              "      <td>NaN</td>\n",
              "      <td>NYPD</td>\n",
              "      <td>New York City Police Department</td>\n",
              "      <td>Noise - Residential</td>\n",
              "      <td>Loud Music/Party</td>\n",
              "      <td>Residential Building/House</td>\n",
              "      <td>11208.0</td>\n",
              "      <td>37 HEMLOCK STREET</td>\n",
              "      <td>...</td>\n",
              "      <td>NaN</td>\n",
              "      <td>NaN</td>\n",
              "      <td>NaN</td>\n",
              "      <td>NaN</td>\n",
              "      <td>NaN</td>\n",
              "      <td>NaN</td>\n",
              "      <td>NaN</td>\n",
              "      <td>40.688911</td>\n",
              "      <td>-73.872353</td>\n",
              "      <td>(40.68891081481749, -73.87235278581583)</td>\n",
              "    </tr>\n",
              "    <tr>\n",
              "      <th>922</th>\n",
              "      <td>54053504</td>\n",
              "      <td>05/01/2022 02:06:13 AM</td>\n",
              "      <td>NaN</td>\n",
              "      <td>NYPD</td>\n",
              "      <td>New York City Police Department</td>\n",
              "      <td>Illegal Parking</td>\n",
              "      <td>Overnight Commercial Storage</td>\n",
              "      <td>Street/Sidewalk</td>\n",
              "      <td>11373.0</td>\n",
              "      <td>60-42 BOOTH STREET</td>\n",
              "      <td>...</td>\n",
              "      <td>NaN</td>\n",
              "      <td>NaN</td>\n",
              "      <td>NaN</td>\n",
              "      <td>NaN</td>\n",
              "      <td>NaN</td>\n",
              "      <td>NaN</td>\n",
              "      <td>NaN</td>\n",
              "      <td>40.731194</td>\n",
              "      <td>-73.869533</td>\n",
              "      <td>(40.73119351356087, -73.86953320857873)</td>\n",
              "    </tr>\n",
              "    <tr>\n",
              "      <th>923</th>\n",
              "      <td>54048300</td>\n",
              "      <td>05/01/2022 02:06:26 AM</td>\n",
              "      <td>NaN</td>\n",
              "      <td>NYPD</td>\n",
              "      <td>New York City Police Department</td>\n",
              "      <td>Noise - Vehicle</td>\n",
              "      <td>Car/Truck Music</td>\n",
              "      <td>Street/Sidewalk</td>\n",
              "      <td>11210.0</td>\n",
              "      <td>723 EAST   27 STREET</td>\n",
              "      <td>...</td>\n",
              "      <td>NaN</td>\n",
              "      <td>NaN</td>\n",
              "      <td>NaN</td>\n",
              "      <td>NaN</td>\n",
              "      <td>NaN</td>\n",
              "      <td>NaN</td>\n",
              "      <td>NaN</td>\n",
              "      <td>40.633076</td>\n",
              "      <td>-73.950965</td>\n",
              "      <td>(40.633076468003175, -73.95096540810518)</td>\n",
              "    </tr>\n",
              "  </tbody>\n",
              "</table>\n",
              "<p>924 rows × 41 columns</p>\n",
              "</div>\n",
              "      <button class=\"colab-df-convert\" onclick=\"convertToInteractive('df-6fbf4039-8bb2-4f35-91ca-7a3153854d92')\"\n",
              "              title=\"Convert this dataframe to an interactive table.\"\n",
              "              style=\"display:none;\">\n",
              "        \n",
              "  <svg xmlns=\"http://www.w3.org/2000/svg\" height=\"24px\"viewBox=\"0 0 24 24\"\n",
              "       width=\"24px\">\n",
              "    <path d=\"M0 0h24v24H0V0z\" fill=\"none\"/>\n",
              "    <path d=\"M18.56 5.44l.94 2.06.94-2.06 2.06-.94-2.06-.94-.94-2.06-.94 2.06-2.06.94zm-11 1L8.5 8.5l.94-2.06 2.06-.94-2.06-.94L8.5 2.5l-.94 2.06-2.06.94zm10 10l.94 2.06.94-2.06 2.06-.94-2.06-.94-.94-2.06-.94 2.06-2.06.94z\"/><path d=\"M17.41 7.96l-1.37-1.37c-.4-.4-.92-.59-1.43-.59-.52 0-1.04.2-1.43.59L10.3 9.45l-7.72 7.72c-.78.78-.78 2.05 0 2.83L4 21.41c.39.39.9.59 1.41.59.51 0 1.02-.2 1.41-.59l7.78-7.78 2.81-2.81c.8-.78.8-2.07 0-2.86zM5.41 20L4 18.59l7.72-7.72 1.47 1.35L5.41 20z\"/>\n",
              "  </svg>\n",
              "      </button>\n",
              "      \n",
              "  <style>\n",
              "    .colab-df-container {\n",
              "      display:flex;\n",
              "      flex-wrap:wrap;\n",
              "      gap: 12px;\n",
              "    }\n",
              "\n",
              "    .colab-df-convert {\n",
              "      background-color: #E8F0FE;\n",
              "      border: none;\n",
              "      border-radius: 50%;\n",
              "      cursor: pointer;\n",
              "      display: none;\n",
              "      fill: #1967D2;\n",
              "      height: 32px;\n",
              "      padding: 0 0 0 0;\n",
              "      width: 32px;\n",
              "    }\n",
              "\n",
              "    .colab-df-convert:hover {\n",
              "      background-color: #E2EBFA;\n",
              "      box-shadow: 0px 1px 2px rgba(60, 64, 67, 0.3), 0px 1px 3px 1px rgba(60, 64, 67, 0.15);\n",
              "      fill: #174EA6;\n",
              "    }\n",
              "\n",
              "    [theme=dark] .colab-df-convert {\n",
              "      background-color: #3B4455;\n",
              "      fill: #D2E3FC;\n",
              "    }\n",
              "\n",
              "    [theme=dark] .colab-df-convert:hover {\n",
              "      background-color: #434B5C;\n",
              "      box-shadow: 0px 1px 3px 1px rgba(0, 0, 0, 0.15);\n",
              "      filter: drop-shadow(0px 1px 2px rgba(0, 0, 0, 0.3));\n",
              "      fill: #FFFFFF;\n",
              "    }\n",
              "  </style>\n",
              "\n",
              "      <script>\n",
              "        const buttonEl =\n",
              "          document.querySelector('#df-6fbf4039-8bb2-4f35-91ca-7a3153854d92 button.colab-df-convert');\n",
              "        buttonEl.style.display =\n",
              "          google.colab.kernel.accessAllowed ? 'block' : 'none';\n",
              "\n",
              "        async function convertToInteractive(key) {\n",
              "          const element = document.querySelector('#df-6fbf4039-8bb2-4f35-91ca-7a3153854d92');\n",
              "          const dataTable =\n",
              "            await google.colab.kernel.invokeFunction('convertToInteractive',\n",
              "                                                     [key], {});\n",
              "          if (!dataTable) return;\n",
              "\n",
              "          const docLinkHtml = 'Like what you see? Visit the ' +\n",
              "            '<a target=\"_blank\" href=https://colab.research.google.com/notebooks/data_table.ipynb>data table notebook</a>'\n",
              "            + ' to learn more about interactive tables.';\n",
              "          element.innerHTML = '';\n",
              "          dataTable['output_type'] = 'display_data';\n",
              "          await google.colab.output.renderOutput(dataTable, element);\n",
              "          const docLink = document.createElement('div');\n",
              "          docLink.innerHTML = docLinkHtml;\n",
              "          element.appendChild(docLink);\n",
              "        }\n",
              "      </script>\n",
              "    </div>\n",
              "  </div>\n",
              "  "
            ]
          },
          "metadata": {},
          "execution_count": 176
        }
      ]
    },
    {
      "cell_type": "code",
      "source": [
        "df.shape"
      ],
      "metadata": {
        "colab": {
          "base_uri": "https://localhost:8080/"
        },
        "id": "HQtjkwAZVhyk",
        "outputId": "09441e0f-4988-440b-d2cd-1a0dfd3a358a"
      },
      "execution_count": 177,
      "outputs": [
        {
          "output_type": "execute_result",
          "data": {
            "text/plain": [
              "(924, 41)"
            ]
          },
          "metadata": {},
          "execution_count": 177
        }
      ]
    },
    {
      "cell_type": "code",
      "source": [
        "df.columns"
      ],
      "metadata": {
        "colab": {
          "base_uri": "https://localhost:8080/"
        },
        "id": "i99LPmngV2lW",
        "outputId": "b16d901b-8884-4652-8210-0ccfad1a98f0"
      },
      "execution_count": 178,
      "outputs": [
        {
          "output_type": "execute_result",
          "data": {
            "text/plain": [
              "Index(['Unique Key', 'Created Date', 'Closed Date', 'Agency', 'Agency Name',\n",
              "       'Complaint Type', 'Descriptor', 'Location Type', 'Incident Zip',\n",
              "       'Incident Address', 'Street Name', 'Cross Street 1', 'Cross Street 2',\n",
              "       'Intersection Street 1', 'Intersection Street 2', 'Address Type',\n",
              "       'City', 'Landmark', 'Facility Type', 'Status', 'Due Date',\n",
              "       'Resolution Description', 'Resolution Action Updated Date',\n",
              "       'Community Board', 'BBL', 'Borough', 'X Coordinate (State Plane)',\n",
              "       'Y Coordinate (State Plane)', 'Open Data Channel Type',\n",
              "       'Park Facility Name', 'Park Borough', 'Vehicle Type',\n",
              "       'Taxi Company Borough', 'Taxi Pick Up Location', 'Bridge Highway Name',\n",
              "       'Bridge Highway Direction', 'Road Ramp', 'Bridge Highway Segment',\n",
              "       'Latitude', 'Longitude', 'Location'],\n",
              "      dtype='object')"
            ]
          },
          "metadata": {},
          "execution_count": 178
        }
      ]
    },
    {
      "cell_type": "code",
      "source": [
        "df.iloc[0]"
      ],
      "metadata": {
        "colab": {
          "base_uri": "https://localhost:8080/"
        },
        "id": "LSoSWqh3V9gs",
        "outputId": "e2728e7d-01e2-41db-8e2a-6a7ff4f03f45"
      },
      "execution_count": 179,
      "outputs": [
        {
          "output_type": "execute_result",
          "data": {
            "text/plain": [
              "Unique Key                                                       54049402\n",
              "Created Date                                       05/01/2022 12:00:03 AM\n",
              "Closed Date                                                           NaN\n",
              "Agency                                                               NYPD\n",
              "Agency Name                               New York City Police Department\n",
              "Complaint Type                                        Noise - Residential\n",
              "Descriptor                                               Loud Music/Party\n",
              "Location Type                                  Residential Building/House\n",
              "Incident Zip                                                      10452.0\n",
              "Incident Address                                       1006 GERARD AVENUE\n",
              "Street Name                                                 GERARD AVENUE\n",
              "Cross Street 1                                           EAST  164 STREET\n",
              "Cross Street 2                                           EAST  165 STREET\n",
              "Intersection Street 1                                    EAST  164 STREET\n",
              "Intersection Street 2                                    EAST  165 STREET\n",
              "Address Type                                                      ADDRESS\n",
              "City                                                                BRONX\n",
              "Landmark                                                    GERARD AVENUE\n",
              "Facility Type                                                         NaN\n",
              "Status                                                        In Progress\n",
              "Due Date                                                              NaN\n",
              "Resolution Description                                                NaN\n",
              "Resolution Action Updated Date                                        NaN\n",
              "Community Board                                                  04 BRONX\n",
              "BBL                                                          2024770001.0\n",
              "Borough                                                             BRONX\n",
              "X Coordinate (State Plane)                                      1005536.0\n",
              "Y Coordinate (State Plane)                                       241916.0\n",
              "Open Data Channel Type                                             ONLINE\n",
              "Park Facility Name                                            Unspecified\n",
              "Park Borough                                                        BRONX\n",
              "Vehicle Type                                                          NaN\n",
              "Taxi Company Borough                                                  NaN\n",
              "Taxi Pick Up Location                                                 NaN\n",
              "Bridge Highway Name                                                   NaN\n",
              "Bridge Highway Direction                                              NaN\n",
              "Road Ramp                                                             NaN\n",
              "Bridge Highway Segment                                                NaN\n",
              "Latitude                                                        40.830653\n",
              "Longitude                                                      -73.923082\n",
              "Location                          (40.83065331987539, -73.92308231033165)\n",
              "Name: 0, dtype: object"
            ]
          },
          "metadata": {},
          "execution_count": 179
        }
      ]
    },
    {
      "cell_type": "code",
      "source": [
        "df.iloc[:, 0] #estraggo la prima colonna"
      ],
      "metadata": {
        "colab": {
          "base_uri": "https://localhost:8080/"
        },
        "id": "CSYLbWteWlRD",
        "outputId": "fa790127-d5ea-46de-de36-a25f2ffbf263"
      },
      "execution_count": 180,
      "outputs": [
        {
          "output_type": "execute_result",
          "data": {
            "text/plain": [
              "0      54049402\n",
              "1      54046813\n",
              "2      54045643\n",
              "3      54051838\n",
              "4      54052808\n",
              "         ...   \n",
              "919    54049386\n",
              "920    54049413\n",
              "921    54052476\n",
              "922    54053504\n",
              "923    54048300\n",
              "Name: Unique Key, Length: 924, dtype: int64"
            ]
          },
          "metadata": {},
          "execution_count": 180
        }
      ]
    },
    {
      "cell_type": "code",
      "source": [
        "df.loc[:, 'Created Date']"
      ],
      "metadata": {
        "colab": {
          "base_uri": "https://localhost:8080/"
        },
        "id": "W_h6Uqh3W0-q",
        "outputId": "8fd1ea0b-9bd8-4c2c-b2ce-85ca8897f0c9"
      },
      "execution_count": 181,
      "outputs": [
        {
          "output_type": "execute_result",
          "data": {
            "text/plain": [
              "0      05/01/2022 12:00:03 AM\n",
              "1      05/01/2022 12:00:09 AM\n",
              "2      05/01/2022 12:00:17 AM\n",
              "3      05/01/2022 12:00:21 AM\n",
              "4      05/01/2022 12:00:25 AM\n",
              "                ...          \n",
              "919    05/01/2022 02:04:45 AM\n",
              "920    05/01/2022 02:05:35 AM\n",
              "921    05/01/2022 02:05:38 AM\n",
              "922    05/01/2022 02:06:13 AM\n",
              "923    05/01/2022 02:06:26 AM\n",
              "Name: Created Date, Length: 924, dtype: object"
            ]
          },
          "metadata": {},
          "execution_count": 181
        }
      ]
    },
    {
      "cell_type": "code",
      "source": [
        "url='https://raw.githubusercontent.com/fedhere/UInotebooks/master/dataWrangling/movies.dat'\n",
        "colname = ['title', 'genre']\n",
        "movies = pd.read_csv(url, sep='::', index_col=0, header=None, names= colname)"
      ],
      "metadata": {
        "colab": {
          "base_uri": "https://localhost:8080/"
        },
        "id": "7IzQYJORXFWv",
        "outputId": "22ffa8f4-4de6-4c27-d21a-f6b3f89ef5e7"
      },
      "execution_count": 182,
      "outputs": [
        {
          "output_type": "stream",
          "name": "stderr",
          "text": [
            "/usr/local/lib/python3.9/dist-packages/pandas/util/_decorators.py:311: ParserWarning: Falling back to the 'python' engine because the 'c' engine does not support regex separators (separators > 1 char and different from '\\s+' are interpreted as regex); you can avoid this warning by specifying engine='python'.\n",
            "  return func(*args, **kwargs)\n"
          ]
        }
      ]
    },
    {
      "cell_type": "code",
      "source": [
        "movies.shape"
      ],
      "metadata": {
        "colab": {
          "base_uri": "https://localhost:8080/"
        },
        "id": "aWwv1lMZXkyW",
        "outputId": "fd023c1f-b442-4e1e-a59b-ec9d05f447e7"
      },
      "execution_count": 183,
      "outputs": [
        {
          "output_type": "execute_result",
          "data": {
            "text/plain": [
              "(3883, 2)"
            ]
          },
          "metadata": {},
          "execution_count": 183
        }
      ]
    },
    {
      "cell_type": "code",
      "source": [
        "movies.columns"
      ],
      "metadata": {
        "colab": {
          "base_uri": "https://localhost:8080/"
        },
        "id": "sOCvwSKVYzET",
        "outputId": "ff15458f-d075-47e7-e125-f8fa3891c3f0"
      },
      "execution_count": 184,
      "outputs": [
        {
          "output_type": "execute_result",
          "data": {
            "text/plain": [
              "Index(['title', 'genre'], dtype='object')"
            ]
          },
          "metadata": {},
          "execution_count": 184
        }
      ]
    },
    {
      "cell_type": "code",
      "source": [
        "movies['title']"
      ],
      "metadata": {
        "colab": {
          "base_uri": "https://localhost:8080/"
        },
        "id": "c7bvekzDY0TH",
        "outputId": "59e38ec9-3266-4003-e81f-bf14c2e70db3"
      },
      "execution_count": 185,
      "outputs": [
        {
          "output_type": "execute_result",
          "data": {
            "text/plain": [
              "1                         Toy Story (1995)\n",
              "2                           Jumanji (1995)\n",
              "3                  Grumpier Old Men (1995)\n",
              "4                 Waiting to Exhale (1995)\n",
              "5       Father of the Bride Part II (1995)\n",
              "                       ...                \n",
              "3948               Meet the Parents (2000)\n",
              "3949            Requiem for a Dream (2000)\n",
              "3950                      Tigerland (2000)\n",
              "3951               Two Family House (2000)\n",
              "3952                 Contender, The (2000)\n",
              "Name: title, Length: 3883, dtype: object"
            ]
          },
          "metadata": {},
          "execution_count": 185
        }
      ]
    },
    {
      "cell_type": "code",
      "source": [
        "movies.title"
      ],
      "metadata": {
        "colab": {
          "base_uri": "https://localhost:8080/"
        },
        "id": "pZq5F6haZKMR",
        "outputId": "621b1e19-8e3a-4989-8550-3913b1b49989"
      },
      "execution_count": 186,
      "outputs": [
        {
          "output_type": "execute_result",
          "data": {
            "text/plain": [
              "1                         Toy Story (1995)\n",
              "2                           Jumanji (1995)\n",
              "3                  Grumpier Old Men (1995)\n",
              "4                 Waiting to Exhale (1995)\n",
              "5       Father of the Bride Part II (1995)\n",
              "                       ...                \n",
              "3948               Meet the Parents (2000)\n",
              "3949            Requiem for a Dream (2000)\n",
              "3950                      Tigerland (2000)\n",
              "3951               Two Family House (2000)\n",
              "3952                 Contender, The (2000)\n",
              "Name: title, Length: 3883, dtype: object"
            ]
          },
          "metadata": {},
          "execution_count": 186
        }
      ]
    },
    {
      "cell_type": "code",
      "source": [
        "movies['genre']"
      ],
      "metadata": {
        "colab": {
          "base_uri": "https://localhost:8080/"
        },
        "id": "5F8kY85PZUNF",
        "outputId": "64de6745-55c9-45d5-99ba-2819683a26ed"
      },
      "execution_count": 187,
      "outputs": [
        {
          "output_type": "execute_result",
          "data": {
            "text/plain": [
              "1        Animation|Children's|Comedy\n",
              "2       Adventure|Children's|Fantasy\n",
              "3                     Comedy|Romance\n",
              "4                       Comedy|Drama\n",
              "5                             Comedy\n",
              "                    ...             \n",
              "3948                          Comedy\n",
              "3949                           Drama\n",
              "3950                           Drama\n",
              "3951                           Drama\n",
              "3952                  Drama|Thriller\n",
              "Name: genre, Length: 3883, dtype: object"
            ]
          },
          "metadata": {},
          "execution_count": 187
        }
      ]
    },
    {
      "cell_type": "code",
      "source": [
        "movies['title']"
      ],
      "metadata": {
        "colab": {
          "base_uri": "https://localhost:8080/"
        },
        "id": "dOi1nf_-Zmm2",
        "outputId": "74883604-ce5b-4df9-a5f4-ee3f990b8c81"
      },
      "execution_count": 188,
      "outputs": [
        {
          "output_type": "execute_result",
          "data": {
            "text/plain": [
              "1                         Toy Story (1995)\n",
              "2                           Jumanji (1995)\n",
              "3                  Grumpier Old Men (1995)\n",
              "4                 Waiting to Exhale (1995)\n",
              "5       Father of the Bride Part II (1995)\n",
              "                       ...                \n",
              "3948               Meet the Parents (2000)\n",
              "3949            Requiem for a Dream (2000)\n",
              "3950                      Tigerland (2000)\n",
              "3951               Two Family House (2000)\n",
              "3952                 Contender, The (2000)\n",
              "Name: title, Length: 3883, dtype: object"
            ]
          },
          "metadata": {},
          "execution_count": 188
        }
      ]
    },
    {
      "cell_type": "code",
      "source": [
        "'Toy Story (1995)'.split()"
      ],
      "metadata": {
        "colab": {
          "base_uri": "https://localhost:8080/"
        },
        "id": "Sh1-AiKcZwWy",
        "outputId": "cd871ff1-55b0-4fa0-885a-288d8a0b3975"
      },
      "execution_count": 189,
      "outputs": [
        {
          "output_type": "execute_result",
          "data": {
            "text/plain": [
              "['Toy', 'Story', '(1995)']"
            ]
          },
          "metadata": {},
          "execution_count": 189
        }
      ]
    },
    {
      "cell_type": "code",
      "source": [
        "'Toy Story (1995)'.split()[2]"
      ],
      "metadata": {
        "colab": {
          "base_uri": "https://localhost:8080/",
          "height": 35
        },
        "id": "8bhn9NQ1Z15V",
        "outputId": "27e4a555-80e5-43d8-cf65-55e928acc614"
      },
      "execution_count": 190,
      "outputs": [
        {
          "output_type": "execute_result",
          "data": {
            "text/plain": [
              "'(1995)'"
            ],
            "application/vnd.google.colaboratory.intrinsic+json": {
              "type": "string"
            }
          },
          "metadata": {},
          "execution_count": 190
        }
      ]
    },
    {
      "cell_type": "code",
      "source": [
        "'Toy Story (1995)'.split()[-1]"
      ],
      "metadata": {
        "colab": {
          "base_uri": "https://localhost:8080/",
          "height": 35
        },
        "id": "Q9EJdzWMaFZE",
        "outputId": "670e52f0-e86c-4aab-f1c1-9d296d405e5b"
      },
      "execution_count": 191,
      "outputs": [
        {
          "output_type": "execute_result",
          "data": {
            "text/plain": [
              "'(1995)'"
            ],
            "application/vnd.google.colaboratory.intrinsic+json": {
              "type": "string"
            }
          },
          "metadata": {},
          "execution_count": 191
        }
      ]
    },
    {
      "cell_type": "code",
      "source": [
        "\"Toy Story (1995)\".split()[-1].replace(\"(\",\"\").strip(\")\")"
      ],
      "metadata": {
        "colab": {
          "base_uri": "https://localhost:8080/",
          "height": 35
        },
        "id": "ZGlnMTB4frIW",
        "outputId": "f767aacf-4563-4c31-c47d-252b912b1760"
      },
      "execution_count": 192,
      "outputs": [
        {
          "output_type": "execute_result",
          "data": {
            "text/plain": [
              "'1995'"
            ],
            "application/vnd.google.colaboratory.intrinsic+json": {
              "type": "string"
            }
          },
          "metadata": {},
          "execution_count": 192
        }
      ]
    },
    {
      "cell_type": "code",
      "source": [
        "'Grumpier Old Men (1995)'.split()[-1].replace('(', '').strip(')')"
      ],
      "metadata": {
        "colab": {
          "base_uri": "https://localhost:8080/",
          "height": 35
        },
        "id": "Qp4kNHNcaHpa",
        "outputId": "12882d72-d4e3-41c8-90c4-3c656e2a804b"
      },
      "execution_count": 193,
      "outputs": [
        {
          "output_type": "execute_result",
          "data": {
            "text/plain": [
              "'1995'"
            ],
            "application/vnd.google.colaboratory.intrinsic+json": {
              "type": "string"
            }
          },
          "metadata": {},
          "execution_count": 193
        }
      ]
    },
    {
      "cell_type": "code",
      "source": [
        "def get_year(mtitle):\n",
        "  \"\"\"\n",
        "  \"\"\"\n",
        "  return int(mtitle.split(\"(\")[-1].strip(\")\"))"
      ],
      "metadata": {
        "id": "bB63DsqbaNZd"
      },
      "execution_count": 194,
      "outputs": []
    },
    {
      "cell_type": "code",
      "source": [
        "movies[\"year\"] = movies[\"title\"].map(get_year)"
      ],
      "metadata": {
        "id": "FyLa1kD8axDB"
      },
      "execution_count": 195,
      "outputs": []
    },
    {
      "cell_type": "code",
      "source": [
        "movies"
      ],
      "metadata": {
        "id": "ta9x6hs2biYP",
        "colab": {
          "base_uri": "https://localhost:8080/",
          "height": 424
        },
        "outputId": "7ebe591e-c2dc-4e9f-b6a6-92ec2ce11923"
      },
      "execution_count": 196,
      "outputs": [
        {
          "output_type": "execute_result",
          "data": {
            "text/plain": [
              "                                   title                         genre  year\n",
              "1                       Toy Story (1995)   Animation|Children's|Comedy  1995\n",
              "2                         Jumanji (1995)  Adventure|Children's|Fantasy  1995\n",
              "3                Grumpier Old Men (1995)                Comedy|Romance  1995\n",
              "4               Waiting to Exhale (1995)                  Comedy|Drama  1995\n",
              "5     Father of the Bride Part II (1995)                        Comedy  1995\n",
              "...                                  ...                           ...   ...\n",
              "3948             Meet the Parents (2000)                        Comedy  2000\n",
              "3949          Requiem for a Dream (2000)                         Drama  2000\n",
              "3950                    Tigerland (2000)                         Drama  2000\n",
              "3951             Two Family House (2000)                         Drama  2000\n",
              "3952               Contender, The (2000)                Drama|Thriller  2000\n",
              "\n",
              "[3883 rows x 3 columns]"
            ],
            "text/html": [
              "\n",
              "  <div id=\"df-e9fd8944-0849-43dd-9832-069432117bf3\">\n",
              "    <div class=\"colab-df-container\">\n",
              "      <div>\n",
              "<style scoped>\n",
              "    .dataframe tbody tr th:only-of-type {\n",
              "        vertical-align: middle;\n",
              "    }\n",
              "\n",
              "    .dataframe tbody tr th {\n",
              "        vertical-align: top;\n",
              "    }\n",
              "\n",
              "    .dataframe thead th {\n",
              "        text-align: right;\n",
              "    }\n",
              "</style>\n",
              "<table border=\"1\" class=\"dataframe\">\n",
              "  <thead>\n",
              "    <tr style=\"text-align: right;\">\n",
              "      <th></th>\n",
              "      <th>title</th>\n",
              "      <th>genre</th>\n",
              "      <th>year</th>\n",
              "    </tr>\n",
              "  </thead>\n",
              "  <tbody>\n",
              "    <tr>\n",
              "      <th>1</th>\n",
              "      <td>Toy Story (1995)</td>\n",
              "      <td>Animation|Children's|Comedy</td>\n",
              "      <td>1995</td>\n",
              "    </tr>\n",
              "    <tr>\n",
              "      <th>2</th>\n",
              "      <td>Jumanji (1995)</td>\n",
              "      <td>Adventure|Children's|Fantasy</td>\n",
              "      <td>1995</td>\n",
              "    </tr>\n",
              "    <tr>\n",
              "      <th>3</th>\n",
              "      <td>Grumpier Old Men (1995)</td>\n",
              "      <td>Comedy|Romance</td>\n",
              "      <td>1995</td>\n",
              "    </tr>\n",
              "    <tr>\n",
              "      <th>4</th>\n",
              "      <td>Waiting to Exhale (1995)</td>\n",
              "      <td>Comedy|Drama</td>\n",
              "      <td>1995</td>\n",
              "    </tr>\n",
              "    <tr>\n",
              "      <th>5</th>\n",
              "      <td>Father of the Bride Part II (1995)</td>\n",
              "      <td>Comedy</td>\n",
              "      <td>1995</td>\n",
              "    </tr>\n",
              "    <tr>\n",
              "      <th>...</th>\n",
              "      <td>...</td>\n",
              "      <td>...</td>\n",
              "      <td>...</td>\n",
              "    </tr>\n",
              "    <tr>\n",
              "      <th>3948</th>\n",
              "      <td>Meet the Parents (2000)</td>\n",
              "      <td>Comedy</td>\n",
              "      <td>2000</td>\n",
              "    </tr>\n",
              "    <tr>\n",
              "      <th>3949</th>\n",
              "      <td>Requiem for a Dream (2000)</td>\n",
              "      <td>Drama</td>\n",
              "      <td>2000</td>\n",
              "    </tr>\n",
              "    <tr>\n",
              "      <th>3950</th>\n",
              "      <td>Tigerland (2000)</td>\n",
              "      <td>Drama</td>\n",
              "      <td>2000</td>\n",
              "    </tr>\n",
              "    <tr>\n",
              "      <th>3951</th>\n",
              "      <td>Two Family House (2000)</td>\n",
              "      <td>Drama</td>\n",
              "      <td>2000</td>\n",
              "    </tr>\n",
              "    <tr>\n",
              "      <th>3952</th>\n",
              "      <td>Contender, The (2000)</td>\n",
              "      <td>Drama|Thriller</td>\n",
              "      <td>2000</td>\n",
              "    </tr>\n",
              "  </tbody>\n",
              "</table>\n",
              "<p>3883 rows × 3 columns</p>\n",
              "</div>\n",
              "      <button class=\"colab-df-convert\" onclick=\"convertToInteractive('df-e9fd8944-0849-43dd-9832-069432117bf3')\"\n",
              "              title=\"Convert this dataframe to an interactive table.\"\n",
              "              style=\"display:none;\">\n",
              "        \n",
              "  <svg xmlns=\"http://www.w3.org/2000/svg\" height=\"24px\"viewBox=\"0 0 24 24\"\n",
              "       width=\"24px\">\n",
              "    <path d=\"M0 0h24v24H0V0z\" fill=\"none\"/>\n",
              "    <path d=\"M18.56 5.44l.94 2.06.94-2.06 2.06-.94-2.06-.94-.94-2.06-.94 2.06-2.06.94zm-11 1L8.5 8.5l.94-2.06 2.06-.94-2.06-.94L8.5 2.5l-.94 2.06-2.06.94zm10 10l.94 2.06.94-2.06 2.06-.94-2.06-.94-.94-2.06-.94 2.06-2.06.94z\"/><path d=\"M17.41 7.96l-1.37-1.37c-.4-.4-.92-.59-1.43-.59-.52 0-1.04.2-1.43.59L10.3 9.45l-7.72 7.72c-.78.78-.78 2.05 0 2.83L4 21.41c.39.39.9.59 1.41.59.51 0 1.02-.2 1.41-.59l7.78-7.78 2.81-2.81c.8-.78.8-2.07 0-2.86zM5.41 20L4 18.59l7.72-7.72 1.47 1.35L5.41 20z\"/>\n",
              "  </svg>\n",
              "      </button>\n",
              "      \n",
              "  <style>\n",
              "    .colab-df-container {\n",
              "      display:flex;\n",
              "      flex-wrap:wrap;\n",
              "      gap: 12px;\n",
              "    }\n",
              "\n",
              "    .colab-df-convert {\n",
              "      background-color: #E8F0FE;\n",
              "      border: none;\n",
              "      border-radius: 50%;\n",
              "      cursor: pointer;\n",
              "      display: none;\n",
              "      fill: #1967D2;\n",
              "      height: 32px;\n",
              "      padding: 0 0 0 0;\n",
              "      width: 32px;\n",
              "    }\n",
              "\n",
              "    .colab-df-convert:hover {\n",
              "      background-color: #E2EBFA;\n",
              "      box-shadow: 0px 1px 2px rgba(60, 64, 67, 0.3), 0px 1px 3px 1px rgba(60, 64, 67, 0.15);\n",
              "      fill: #174EA6;\n",
              "    }\n",
              "\n",
              "    [theme=dark] .colab-df-convert {\n",
              "      background-color: #3B4455;\n",
              "      fill: #D2E3FC;\n",
              "    }\n",
              "\n",
              "    [theme=dark] .colab-df-convert:hover {\n",
              "      background-color: #434B5C;\n",
              "      box-shadow: 0px 1px 3px 1px rgba(0, 0, 0, 0.15);\n",
              "      filter: drop-shadow(0px 1px 2px rgba(0, 0, 0, 0.3));\n",
              "      fill: #FFFFFF;\n",
              "    }\n",
              "  </style>\n",
              "\n",
              "      <script>\n",
              "        const buttonEl =\n",
              "          document.querySelector('#df-e9fd8944-0849-43dd-9832-069432117bf3 button.colab-df-convert');\n",
              "        buttonEl.style.display =\n",
              "          google.colab.kernel.accessAllowed ? 'block' : 'none';\n",
              "\n",
              "        async function convertToInteractive(key) {\n",
              "          const element = document.querySelector('#df-e9fd8944-0849-43dd-9832-069432117bf3');\n",
              "          const dataTable =\n",
              "            await google.colab.kernel.invokeFunction('convertToInteractive',\n",
              "                                                     [key], {});\n",
              "          if (!dataTable) return;\n",
              "\n",
              "          const docLinkHtml = 'Like what you see? Visit the ' +\n",
              "            '<a target=\"_blank\" href=https://colab.research.google.com/notebooks/data_table.ipynb>data table notebook</a>'\n",
              "            + ' to learn more about interactive tables.';\n",
              "          element.innerHTML = '';\n",
              "          dataTable['output_type'] = 'display_data';\n",
              "          await google.colab.output.renderOutput(dataTable, element);\n",
              "          const docLink = document.createElement('div');\n",
              "          docLink.innerHTML = docLinkHtml;\n",
              "          element.appendChild(docLink);\n",
              "        }\n",
              "      </script>\n",
              "    </div>\n",
              "  </div>\n",
              "  "
            ]
          },
          "metadata": {},
          "execution_count": 196
        }
      ]
    },
    {
      "cell_type": "markdown",
      "source": [
        "#Homework 10/03\n",
        "##find all movies that are genre Fantasy. How many are there? How about Adventure? (hint: use a Boolean condition with the operator “==“)\n",
        "##How many movies are Fantasy, possibly together with other genres? (hint: use the operator “in”)"
      ],
      "metadata": {
        "id": "qjYsQMKmgjCf"
      }
    },
    {
      "cell_type": "code",
      "source": [
        "import pandas as pd\n",
        "##from pandas import read_csv\n",
        "url='https://raw.githubusercontent.com/fedhere/UInotebooks/master/dataWrangling/movies.dat'\n",
        "colname = ['title', 'genre']\n",
        "movies = pd.read_csv(url, sep='::', index_col=0, header=None, names= colname)"
      ],
      "metadata": {
        "colab": {
          "base_uri": "https://localhost:8080/"
        },
        "id": "SXOgYwHMgr2x",
        "outputId": "65e5fbf0-d952-41ac-976a-31f9eaa95ad4"
      },
      "execution_count": 197,
      "outputs": [
        {
          "output_type": "stream",
          "name": "stderr",
          "text": [
            "/usr/local/lib/python3.9/dist-packages/pandas/util/_decorators.py:311: ParserWarning: Falling back to the 'python' engine because the 'c' engine does not support regex separators (separators > 1 char and different from '\\s+' are interpreted as regex); you can avoid this warning by specifying engine='python'.\n",
            "  return func(*args, **kwargs)\n"
          ]
        }
      ]
    },
    {
      "cell_type": "code",
      "source": [
        "def get_year(mtitle):\n",
        "  \"\"\"\n",
        "  \"\"\"\n",
        "  return int(mtitle.split(\"(\")[-1].strip(\")\"))\n",
        "movies[\"year\"] = movies[\"title\"].map(get_year)"
      ],
      "metadata": {
        "id": "BMAd-2UBgvia"
      },
      "execution_count": 198,
      "outputs": []
    },
    {
      "cell_type": "code",
      "source": [
        "movies"
      ],
      "metadata": {
        "colab": {
          "base_uri": "https://localhost:8080/",
          "height": 424
        },
        "id": "kqqT0Hctg3va",
        "outputId": "8cbe7263-f152-4e37-d532-6441cac9bf34"
      },
      "execution_count": 199,
      "outputs": [
        {
          "output_type": "execute_result",
          "data": {
            "text/plain": [
              "                                   title                         genre  year\n",
              "1                       Toy Story (1995)   Animation|Children's|Comedy  1995\n",
              "2                         Jumanji (1995)  Adventure|Children's|Fantasy  1995\n",
              "3                Grumpier Old Men (1995)                Comedy|Romance  1995\n",
              "4               Waiting to Exhale (1995)                  Comedy|Drama  1995\n",
              "5     Father of the Bride Part II (1995)                        Comedy  1995\n",
              "...                                  ...                           ...   ...\n",
              "3948             Meet the Parents (2000)                        Comedy  2000\n",
              "3949          Requiem for a Dream (2000)                         Drama  2000\n",
              "3950                    Tigerland (2000)                         Drama  2000\n",
              "3951             Two Family House (2000)                         Drama  2000\n",
              "3952               Contender, The (2000)                Drama|Thriller  2000\n",
              "\n",
              "[3883 rows x 3 columns]"
            ],
            "text/html": [
              "\n",
              "  <div id=\"df-9b46fc4a-a3a7-4d67-a448-18baa8a50bb6\">\n",
              "    <div class=\"colab-df-container\">\n",
              "      <div>\n",
              "<style scoped>\n",
              "    .dataframe tbody tr th:only-of-type {\n",
              "        vertical-align: middle;\n",
              "    }\n",
              "\n",
              "    .dataframe tbody tr th {\n",
              "        vertical-align: top;\n",
              "    }\n",
              "\n",
              "    .dataframe thead th {\n",
              "        text-align: right;\n",
              "    }\n",
              "</style>\n",
              "<table border=\"1\" class=\"dataframe\">\n",
              "  <thead>\n",
              "    <tr style=\"text-align: right;\">\n",
              "      <th></th>\n",
              "      <th>title</th>\n",
              "      <th>genre</th>\n",
              "      <th>year</th>\n",
              "    </tr>\n",
              "  </thead>\n",
              "  <tbody>\n",
              "    <tr>\n",
              "      <th>1</th>\n",
              "      <td>Toy Story (1995)</td>\n",
              "      <td>Animation|Children's|Comedy</td>\n",
              "      <td>1995</td>\n",
              "    </tr>\n",
              "    <tr>\n",
              "      <th>2</th>\n",
              "      <td>Jumanji (1995)</td>\n",
              "      <td>Adventure|Children's|Fantasy</td>\n",
              "      <td>1995</td>\n",
              "    </tr>\n",
              "    <tr>\n",
              "      <th>3</th>\n",
              "      <td>Grumpier Old Men (1995)</td>\n",
              "      <td>Comedy|Romance</td>\n",
              "      <td>1995</td>\n",
              "    </tr>\n",
              "    <tr>\n",
              "      <th>4</th>\n",
              "      <td>Waiting to Exhale (1995)</td>\n",
              "      <td>Comedy|Drama</td>\n",
              "      <td>1995</td>\n",
              "    </tr>\n",
              "    <tr>\n",
              "      <th>5</th>\n",
              "      <td>Father of the Bride Part II (1995)</td>\n",
              "      <td>Comedy</td>\n",
              "      <td>1995</td>\n",
              "    </tr>\n",
              "    <tr>\n",
              "      <th>...</th>\n",
              "      <td>...</td>\n",
              "      <td>...</td>\n",
              "      <td>...</td>\n",
              "    </tr>\n",
              "    <tr>\n",
              "      <th>3948</th>\n",
              "      <td>Meet the Parents (2000)</td>\n",
              "      <td>Comedy</td>\n",
              "      <td>2000</td>\n",
              "    </tr>\n",
              "    <tr>\n",
              "      <th>3949</th>\n",
              "      <td>Requiem for a Dream (2000)</td>\n",
              "      <td>Drama</td>\n",
              "      <td>2000</td>\n",
              "    </tr>\n",
              "    <tr>\n",
              "      <th>3950</th>\n",
              "      <td>Tigerland (2000)</td>\n",
              "      <td>Drama</td>\n",
              "      <td>2000</td>\n",
              "    </tr>\n",
              "    <tr>\n",
              "      <th>3951</th>\n",
              "      <td>Two Family House (2000)</td>\n",
              "      <td>Drama</td>\n",
              "      <td>2000</td>\n",
              "    </tr>\n",
              "    <tr>\n",
              "      <th>3952</th>\n",
              "      <td>Contender, The (2000)</td>\n",
              "      <td>Drama|Thriller</td>\n",
              "      <td>2000</td>\n",
              "    </tr>\n",
              "  </tbody>\n",
              "</table>\n",
              "<p>3883 rows × 3 columns</p>\n",
              "</div>\n",
              "      <button class=\"colab-df-convert\" onclick=\"convertToInteractive('df-9b46fc4a-a3a7-4d67-a448-18baa8a50bb6')\"\n",
              "              title=\"Convert this dataframe to an interactive table.\"\n",
              "              style=\"display:none;\">\n",
              "        \n",
              "  <svg xmlns=\"http://www.w3.org/2000/svg\" height=\"24px\"viewBox=\"0 0 24 24\"\n",
              "       width=\"24px\">\n",
              "    <path d=\"M0 0h24v24H0V0z\" fill=\"none\"/>\n",
              "    <path d=\"M18.56 5.44l.94 2.06.94-2.06 2.06-.94-2.06-.94-.94-2.06-.94 2.06-2.06.94zm-11 1L8.5 8.5l.94-2.06 2.06-.94-2.06-.94L8.5 2.5l-.94 2.06-2.06.94zm10 10l.94 2.06.94-2.06 2.06-.94-2.06-.94-.94-2.06-.94 2.06-2.06.94z\"/><path d=\"M17.41 7.96l-1.37-1.37c-.4-.4-.92-.59-1.43-.59-.52 0-1.04.2-1.43.59L10.3 9.45l-7.72 7.72c-.78.78-.78 2.05 0 2.83L4 21.41c.39.39.9.59 1.41.59.51 0 1.02-.2 1.41-.59l7.78-7.78 2.81-2.81c.8-.78.8-2.07 0-2.86zM5.41 20L4 18.59l7.72-7.72 1.47 1.35L5.41 20z\"/>\n",
              "  </svg>\n",
              "      </button>\n",
              "      \n",
              "  <style>\n",
              "    .colab-df-container {\n",
              "      display:flex;\n",
              "      flex-wrap:wrap;\n",
              "      gap: 12px;\n",
              "    }\n",
              "\n",
              "    .colab-df-convert {\n",
              "      background-color: #E8F0FE;\n",
              "      border: none;\n",
              "      border-radius: 50%;\n",
              "      cursor: pointer;\n",
              "      display: none;\n",
              "      fill: #1967D2;\n",
              "      height: 32px;\n",
              "      padding: 0 0 0 0;\n",
              "      width: 32px;\n",
              "    }\n",
              "\n",
              "    .colab-df-convert:hover {\n",
              "      background-color: #E2EBFA;\n",
              "      box-shadow: 0px 1px 2px rgba(60, 64, 67, 0.3), 0px 1px 3px 1px rgba(60, 64, 67, 0.15);\n",
              "      fill: #174EA6;\n",
              "    }\n",
              "\n",
              "    [theme=dark] .colab-df-convert {\n",
              "      background-color: #3B4455;\n",
              "      fill: #D2E3FC;\n",
              "    }\n",
              "\n",
              "    [theme=dark] .colab-df-convert:hover {\n",
              "      background-color: #434B5C;\n",
              "      box-shadow: 0px 1px 3px 1px rgba(0, 0, 0, 0.15);\n",
              "      filter: drop-shadow(0px 1px 2px rgba(0, 0, 0, 0.3));\n",
              "      fill: #FFFFFF;\n",
              "    }\n",
              "  </style>\n",
              "\n",
              "      <script>\n",
              "        const buttonEl =\n",
              "          document.querySelector('#df-9b46fc4a-a3a7-4d67-a448-18baa8a50bb6 button.colab-df-convert');\n",
              "        buttonEl.style.display =\n",
              "          google.colab.kernel.accessAllowed ? 'block' : 'none';\n",
              "\n",
              "        async function convertToInteractive(key) {\n",
              "          const element = document.querySelector('#df-9b46fc4a-a3a7-4d67-a448-18baa8a50bb6');\n",
              "          const dataTable =\n",
              "            await google.colab.kernel.invokeFunction('convertToInteractive',\n",
              "                                                     [key], {});\n",
              "          if (!dataTable) return;\n",
              "\n",
              "          const docLinkHtml = 'Like what you see? Visit the ' +\n",
              "            '<a target=\"_blank\" href=https://colab.research.google.com/notebooks/data_table.ipynb>data table notebook</a>'\n",
              "            + ' to learn more about interactive tables.';\n",
              "          element.innerHTML = '';\n",
              "          dataTable['output_type'] = 'display_data';\n",
              "          await google.colab.output.renderOutput(dataTable, element);\n",
              "          const docLink = document.createElement('div');\n",
              "          docLink.innerHTML = docLinkHtml;\n",
              "          element.appendChild(docLink);\n",
              "        }\n",
              "      </script>\n",
              "    </div>\n",
              "  </div>\n",
              "  "
            ]
          },
          "metadata": {},
          "execution_count": 199
        }
      ]
    },
    {
      "cell_type": "code",
      "source": [
        "#numero di fantasy movies\n",
        "fantasymovies = movies[(movies['genre'] == 'Fantasy')]\n",
        "num_fan= sum((movies['genre'] == 'Fantasy'))\n",
        "#print(fantasymovies)\n",
        "print('Fantasy:', num_fan)\n",
        "\n",
        "#numero di adventure movies\n",
        "advmovies = movies[(movies['genre'] == 'Adventure')]\n",
        "num_adv=sum((movies['genre'] == 'Adventure'))\n",
        "#print(advmovies)\n",
        "print('Adventure:', num_adv)\n",
        "\n",
        "#numero di Fantasy con altri generi\n",
        "j=0\n",
        "for i in range(1,3952):\n",
        "  try:\n",
        "    if 'Fantasy' in movies['genre'][i]:\n",
        "      j=j+1\n",
        "  except:\n",
        "    pass\n",
        "print('Fantasy e altro:',j)"
      ],
      "metadata": {
        "colab": {
          "base_uri": "https://localhost:8080/"
        },
        "id": "lbf0udYBhfs4",
        "outputId": "09aef3c6-ca4e-4dcb-9ddc-2abef0dbed56"
      },
      "execution_count": 200,
      "outputs": [
        {
          "output_type": "stream",
          "name": "stdout",
          "text": [
            "Fantasy: 1\n",
            "Adventure: 17\n",
            "Fantasy e altro: 68\n"
          ]
        }
      ]
    },
    {
      "cell_type": "code",
      "source": [
        "#PROVO A FARLO CON UNA FUNZIONE:\n",
        "\n",
        "def search_only(g):\n",
        "  fantasymovies = movies[(movies['genre'] == g)]\n",
        "  num_fan= sum((movies['genre'] == g))\n",
        "  #print(fantasymovies)\n",
        "  print(g ,':', num_fan)\n",
        "\n",
        "def search(g):\n",
        "  j=0\n",
        "  for i in range(1,3952):\n",
        "    try:\n",
        "      if 'Fantasy' in movies['genre'][i]:\n",
        "        j=j+1\n",
        "    except:\n",
        "      pass\n",
        "  print(g ,'e altro:', j)\n",
        "\n",
        "\n",
        "search_only('Fantasy')\n",
        "search_only('Adventure')\n",
        "search('Fantasy')"
      ],
      "metadata": {
        "colab": {
          "base_uri": "https://localhost:8080/"
        },
        "id": "Xgdn-Io2PXBg",
        "outputId": "14516a97-eec9-4570-82b5-7532dfb948be"
      },
      "execution_count": 201,
      "outputs": [
        {
          "output_type": "stream",
          "name": "stdout",
          "text": [
            "Fantasy : 1\n",
            "Adventure : 17\n",
            "Fantasy e altro: 68\n"
          ]
        }
      ]
    },
    {
      "cell_type": "markdown",
      "source": [
        "# Lezione 10/03"
      ],
      "metadata": {
        "id": "K_d4sihaMeD8"
      }
    },
    {
      "cell_type": "code",
      "source": [
        "movies.groupby(\"year\").count().plot(y=\"title\")"
      ],
      "metadata": {
        "colab": {
          "base_uri": "https://localhost:8080/",
          "height": 296
        },
        "id": "LoSLSZzuMgzg",
        "outputId": "a2925548-44ef-4d69-fc72-a8c3ee9b7565"
      },
      "execution_count": 202,
      "outputs": [
        {
          "output_type": "execute_result",
          "data": {
            "text/plain": [
              "<AxesSubplot:xlabel='year'>"
            ]
          },
          "metadata": {},
          "execution_count": 202
        },
        {
          "output_type": "display_data",
          "data": {
            "text/plain": [
              "<Figure size 432x288 with 1 Axes>"
            ],
            "image/png": "[encoded data removed]"
          },
          "metadata": {
            "needs_background": "light"
          }
        }
      ]
    },
    {
      "cell_type": "code",
      "source": [
        "movies.groupby(\"year\").count()"
      ],
      "metadata": {
        "colab": {
          "base_uri": "https://localhost:8080/",
          "height": 455
        },
        "id": "RDK18RK_NNTs",
        "outputId": "ea7cdec5-1dfe-45e4-d6a0-149d7239c309"
      },
      "execution_count": 203,
      "outputs": [
        {
          "output_type": "execute_result",
          "data": {
            "text/plain": [
              "      title  genre\n",
              "year              \n",
              "1919      3      3\n",
              "1920      2      2\n",
              "1921      1      1\n",
              "1922      2      2\n",
              "1923      3      3\n",
              "...     ...    ...\n",
              "1996    345    345\n",
              "1997    315    315\n",
              "1998    337    337\n",
              "1999    283    283\n",
              "2000    156    156\n",
              "\n",
              "[81 rows x 2 columns]"
            ],
            "text/html": [
              "\n",
              "  <div id=\"df-736dc1ac-dedb-41c9-a89b-fe30b40353b6\">\n",
              "    <div class=\"colab-df-container\">\n",
              "      <div>\n",
              "<style scoped>\n",
              "    .dataframe tbody tr th:only-of-type {\n",
              "        vertical-align: middle;\n",
              "    }\n",
              "\n",
              "    .dataframe tbody tr th {\n",
              "        vertical-align: top;\n",
              "    }\n",
              "\n",
              "    .dataframe thead th {\n",
              "        text-align: right;\n",
              "    }\n",
              "</style>\n",
              "<table border=\"1\" class=\"dataframe\">\n",
              "  <thead>\n",
              "    <tr style=\"text-align: right;\">\n",
              "      <th></th>\n",
              "      <th>title</th>\n",
              "      <th>genre</th>\n",
              "    </tr>\n",
              "    <tr>\n",
              "      <th>year</th>\n",
              "      <th></th>\n",
              "      <th></th>\n",
              "    </tr>\n",
              "  </thead>\n",
              "  <tbody>\n",
              "    <tr>\n",
              "      <th>1919</th>\n",
              "      <td>3</td>\n",
              "      <td>3</td>\n",
              "    </tr>\n",
              "    <tr>\n",
              "      <th>1920</th>\n",
              "      <td>2</td>\n",
              "      <td>2</td>\n",
              "    </tr>\n",
              "    <tr>\n",
              "      <th>1921</th>\n",
              "      <td>1</td>\n",
              "      <td>1</td>\n",
              "    </tr>\n",
              "    <tr>\n",
              "      <th>1922</th>\n",
              "      <td>2</td>\n",
              "      <td>2</td>\n",
              "    </tr>\n",
              "    <tr>\n",
              "      <th>1923</th>\n",
              "      <td>3</td>\n",
              "      <td>3</td>\n",
              "    </tr>\n",
              "    <tr>\n",
              "      <th>...</th>\n",
              "      <td>...</td>\n",
              "      <td>...</td>\n",
              "    </tr>\n",
              "    <tr>\n",
              "      <th>1996</th>\n",
              "      <td>345</td>\n",
              "      <td>345</td>\n",
              "    </tr>\n",
              "    <tr>\n",
              "      <th>1997</th>\n",
              "      <td>315</td>\n",
              "      <td>315</td>\n",
              "    </tr>\n",
              "    <tr>\n",
              "      <th>1998</th>\n",
              "      <td>337</td>\n",
              "      <td>337</td>\n",
              "    </tr>\n",
              "    <tr>\n",
              "      <th>1999</th>\n",
              "      <td>283</td>\n",
              "      <td>283</td>\n",
              "    </tr>\n",
              "    <tr>\n",
              "      <th>2000</th>\n",
              "      <td>156</td>\n",
              "      <td>156</td>\n",
              "    </tr>\n",
              "  </tbody>\n",
              "</table>\n",
              "<p>81 rows × 2 columns</p>\n",
              "</div>\n",
              "      <button class=\"colab-df-convert\" onclick=\"convertToInteractive('df-736dc1ac-dedb-41c9-a89b-fe30b40353b6')\"\n",
              "              title=\"Convert this dataframe to an interactive table.\"\n",
              "              style=\"display:none;\">\n",
              "        \n",
              "  <svg xmlns=\"http://www.w3.org/2000/svg\" height=\"24px\"viewBox=\"0 0 24 24\"\n",
              "       width=\"24px\">\n",
              "    <path d=\"M0 0h24v24H0V0z\" fill=\"none\"/>\n",
              "    <path d=\"M18.56 5.44l.94 2.06.94-2.06 2.06-.94-2.06-.94-.94-2.06-.94 2.06-2.06.94zm-11 1L8.5 8.5l.94-2.06 2.06-.94-2.06-.94L8.5 2.5l-.94 2.06-2.06.94zm10 10l.94 2.06.94-2.06 2.06-.94-2.06-.94-.94-2.06-.94 2.06-2.06.94z\"/><path d=\"M17.41 7.96l-1.37-1.37c-.4-.4-.92-.59-1.43-.59-.52 0-1.04.2-1.43.59L10.3 9.45l-7.72 7.72c-.78.78-.78 2.05 0 2.83L4 21.41c.39.39.9.59 1.41.59.51 0 1.02-.2 1.41-.59l7.78-7.78 2.81-2.81c.8-.78.8-2.07 0-2.86zM5.41 20L4 18.59l7.72-7.72 1.47 1.35L5.41 20z\"/>\n",
              "  </svg>\n",
              "      </button>\n",
              "      \n",
              "  <style>\n",
              "    .colab-df-container {\n",
              "      display:flex;\n",
              "      flex-wrap:wrap;\n",
              "      gap: 12px;\n",
              "    }\n",
              "\n",
              "    .colab-df-convert {\n",
              "      background-color: #E8F0FE;\n",
              "      border: none;\n",
              "      border-radius: 50%;\n",
              "      cursor: pointer;\n",
              "      display: none;\n",
              "      fill: #1967D2;\n",
              "      height: 32px;\n",
              "      padding: 0 0 0 0;\n",
              "      width: 32px;\n",
              "    }\n",
              "\n",
              "    .colab-df-convert:hover {\n",
              "      background-color: #E2EBFA;\n",
              "      box-shadow: 0px 1px 2px rgba(60, 64, 67, 0.3), 0px 1px 3px 1px rgba(60, 64, 67, 0.15);\n",
              "      fill: #174EA6;\n",
              "    }\n",
              "\n",
              "    [theme=dark] .colab-df-convert {\n",
              "      background-color: #3B4455;\n",
              "      fill: #D2E3FC;\n",
              "    }\n",
              "\n",
              "    [theme=dark] .colab-df-convert:hover {\n",
              "      background-color: #434B5C;\n",
              "      box-shadow: 0px 1px 3px 1px rgba(0, 0, 0, 0.15);\n",
              "      filter: drop-shadow(0px 1px 2px rgba(0, 0, 0, 0.3));\n",
              "      fill: #FFFFFF;\n",
              "    }\n",
              "  </style>\n",
              "\n",
              "      <script>\n",
              "        const buttonEl =\n",
              "          document.querySelector('#df-736dc1ac-dedb-41c9-a89b-fe30b40353b6 button.colab-df-convert');\n",
              "        buttonEl.style.display =\n",
              "          google.colab.kernel.accessAllowed ? 'block' : 'none';\n",
              "\n",
              "        async function convertToInteractive(key) {\n",
              "          const element = document.querySelector('#df-736dc1ac-dedb-41c9-a89b-fe30b40353b6');\n",
              "          const dataTable =\n",
              "            await google.colab.kernel.invokeFunction('convertToInteractive',\n",
              "                                                     [key], {});\n",
              "          if (!dataTable) return;\n",
              "\n",
              "          const docLinkHtml = 'Like what you see? Visit the ' +\n",
              "            '<a target=\"_blank\" href=https://colab.research.google.com/notebooks/data_table.ipynb>data table notebook</a>'\n",
              "            + ' to learn more about interactive tables.';\n",
              "          element.innerHTML = '';\n",
              "          dataTable['output_type'] = 'display_data';\n",
              "          await google.colab.output.renderOutput(dataTable, element);\n",
              "          const docLink = document.createElement('div');\n",
              "          docLink.innerHTML = docLinkHtml;\n",
              "          element.appendChild(docLink);\n",
              "        }\n",
              "      </script>\n",
              "    </div>\n",
              "  </div>\n",
              "  "
            ]
          },
          "metadata": {},
          "execution_count": 203
        }
      ]
    },
    {
      "cell_type": "code",
      "source": [
        "##come c'era da fare il compito\n",
        "movies['genres'] = movies.genre.map(lambda x: x.split('|'))"
      ],
      "metadata": {
        "id": "5m7NNB_NOUzy"
      },
      "execution_count": 206,
      "outputs": []
    },
    {
      "cell_type": "code",
      "source": [
        "movies[movies]"
      ],
      "metadata": {
        "id": "bYrJ9GsRPoUE"
      },
      "execution_count": 206,
      "outputs": []
    },
    {
      "cell_type": "code",
      "source": [
        "#regular for loop solution\n",
        "glist = []\n",
        "for m in movies['genre']:\n",
        "  print('Fantasy' in m)\n",
        "  glist.append"
      ],
      "metadata": {
        "colab": {
          "base_uri": "https://localhost:8080/",
          "height": 130
        },
        "id": "gYjR5czIQ2TM",
        "outputId": "e3e94d75-9c76-47eb-8676-0feccba58789"
      },
      "execution_count": 207,
      "outputs": [
        {
          "output_type": "error",
          "ename": "IndentationError",
          "evalue": "ignored",
          "traceback": [
            "\u001b[0;36m  File \u001b[0;32m\"<ipython-input-207-866475691cb6>\"\u001b[0;36m, line \u001b[0;32m3\u001b[0m\n\u001b[0;31m    for m in movies['genre']:\u001b[0m\n\u001b[0m                             ^\u001b[0m\n\u001b[0;31mIndentationError\u001b[0m\u001b[0;31m:\u001b[0m expected an indented block\n"
          ]
        }
      ]
    },
    {
      "cell_type": "code",
      "source": [],
      "metadata": {
        "id": "5pdd-hKlRntF"
      },
      "execution_count": null,
      "outputs": []
    },
    {
      "cell_type": "code",
      "source": [
        "#list comprehension\n",
        "['Fantasy'  ]"
      ],
      "metadata": {
        "id": "dT7V41eeQ9vJ"
      },
      "execution_count": null,
      "outputs": []
    },
    {
      "cell_type": "code",
      "source": [
        "movies.groupby('genre').count().sort_values(by='title')"
      ],
      "metadata": {
        "colab": {
          "base_uri": "https://localhost:8080/",
          "height": 455
        },
        "id": "prGBquqmRoY0",
        "outputId": "f8a58ed7-489d-41d3-bfcc-891b0e5b8ea5"
      },
      "execution_count": 208,
      "outputs": [
        {
          "output_type": "execute_result",
          "data": {
            "text/plain": [
              "                                        title  year  genres\n",
              "genre                                                      \n",
              "Animation|Children's|Fantasy|Musical        1     1       1\n",
              "Adventure|Animation|Sci-Fi                  1     1       1\n",
              "Adventure|Animation|Film-Noir               1     1       1\n",
              "Adventure|Animation|Children's|Sci-Fi       1     1       1\n",
              "Adventure|Animation|Children's|Fantasy      1     1       1\n",
              "...                                       ...   ...     ...\n",
              "Comedy|Romance                            142   142     142\n",
              "Comedy|Drama                              162   162     162\n",
              "Horror                                    178   178     178\n",
              "Comedy                                    521   521     521\n",
              "Drama                                     843   843     843\n",
              "\n",
              "[301 rows x 3 columns]"
            ],
            "text/html": [
              "\n",
              "  <div id=\"df-bf284921-e97b-467e-b000-5ab977e4076d\">\n",
              "    <div class=\"colab-df-container\">\n",
              "      <div>\n",
              "<style scoped>\n",
              "    .dataframe tbody tr th:only-of-type {\n",
              "        vertical-align: middle;\n",
              "    }\n",
              "\n",
              "    .dataframe tbody tr th {\n",
              "        vertical-align: top;\n",
              "    }\n",
              "\n",
              "    .dataframe thead th {\n",
              "        text-align: right;\n",
              "    }\n",
              "</style>\n",
              "<table border=\"1\" class=\"dataframe\">\n",
              "  <thead>\n",
              "    <tr style=\"text-align: right;\">\n",
              "      <th></th>\n",
              "      <th>title</th>\n",
              "      <th>year</th>\n",
              "      <th>genres</th>\n",
              "    </tr>\n",
              "    <tr>\n",
              "      <th>genre</th>\n",
              "      <th></th>\n",
              "      <th></th>\n",
              "      <th></th>\n",
              "    </tr>\n",
              "  </thead>\n",
              "  <tbody>\n",
              "    <tr>\n",
              "      <th>Animation|Children's|Fantasy|Musical</th>\n",
              "      <td>1</td>\n",
              "      <td>1</td>\n",
              "      <td>1</td>\n",
              "    </tr>\n",
              "    <tr>\n",
              "      <th>Adventure|Animation|Sci-Fi</th>\n",
              "      <td>1</td>\n",
              "      <td>1</td>\n",
              "      <td>1</td>\n",
              "    </tr>\n",
              "    <tr>\n",
              "      <th>Adventure|Animation|Film-Noir</th>\n",
              "      <td>1</td>\n",
              "      <td>1</td>\n",
              "      <td>1</td>\n",
              "    </tr>\n",
              "    <tr>\n",
              "      <th>Adventure|Animation|Children's|Sci-Fi</th>\n",
              "      <td>1</td>\n",
              "      <td>1</td>\n",
              "      <td>1</td>\n",
              "    </tr>\n",
              "    <tr>\n",
              "      <th>Adventure|Animation|Children's|Fantasy</th>\n",
              "      <td>1</td>\n",
              "      <td>1</td>\n",
              "      <td>1</td>\n",
              "    </tr>\n",
              "    <tr>\n",
              "      <th>...</th>\n",
              "      <td>...</td>\n",
              "      <td>...</td>\n",
              "      <td>...</td>\n",
              "    </tr>\n",
              "    <tr>\n",
              "      <th>Comedy|Romance</th>\n",
              "      <td>142</td>\n",
              "      <td>142</td>\n",
              "      <td>142</td>\n",
              "    </tr>\n",
              "    <tr>\n",
              "      <th>Comedy|Drama</th>\n",
              "      <td>162</td>\n",
              "      <td>162</td>\n",
              "      <td>162</td>\n",
              "    </tr>\n",
              "    <tr>\n",
              "      <th>Horror</th>\n",
              "      <td>178</td>\n",
              "      <td>178</td>\n",
              "      <td>178</td>\n",
              "    </tr>\n",
              "    <tr>\n",
              "      <th>Comedy</th>\n",
              "      <td>521</td>\n",
              "      <td>521</td>\n",
              "      <td>521</td>\n",
              "    </tr>\n",
              "    <tr>\n",
              "      <th>Drama</th>\n",
              "      <td>843</td>\n",
              "      <td>843</td>\n",
              "      <td>843</td>\n",
              "    </tr>\n",
              "  </tbody>\n",
              "</table>\n",
              "<p>301 rows × 3 columns</p>\n",
              "</div>\n",
              "      <button class=\"colab-df-convert\" onclick=\"convertToInteractive('df-bf284921-e97b-467e-b000-5ab977e4076d')\"\n",
              "              title=\"Convert this dataframe to an interactive table.\"\n",
              "              style=\"display:none;\">\n",
              "        \n",
              "  <svg xmlns=\"http://www.w3.org/2000/svg\" height=\"24px\"viewBox=\"0 0 24 24\"\n",
              "       width=\"24px\">\n",
              "    <path d=\"M0 0h24v24H0V0z\" fill=\"none\"/>\n",
              "    <path d=\"M18.56 5.44l.94 2.06.94-2.06 2.06-.94-2.06-.94-.94-2.06-.94 2.06-2.06.94zm-11 1L8.5 8.5l.94-2.06 2.06-.94-2.06-.94L8.5 2.5l-.94 2.06-2.06.94zm10 10l.94 2.06.94-2.06 2.06-.94-2.06-.94-.94-2.06-.94 2.06-2.06.94z\"/><path d=\"M17.41 7.96l-1.37-1.37c-.4-.4-.92-.59-1.43-.59-.52 0-1.04.2-1.43.59L10.3 9.45l-7.72 7.72c-.78.78-.78 2.05 0 2.83L4 21.41c.39.39.9.59 1.41.59.51 0 1.02-.2 1.41-.59l7.78-7.78 2.81-2.81c.8-.78.8-2.07 0-2.86zM5.41 20L4 18.59l7.72-7.72 1.47 1.35L5.41 20z\"/>\n",
              "  </svg>\n",
              "      </button>\n",
              "      \n",
              "  <style>\n",
              "    .colab-df-container {\n",
              "      display:flex;\n",
              "      flex-wrap:wrap;\n",
              "      gap: 12px;\n",
              "    }\n",
              "\n",
              "    .colab-df-convert {\n",
              "      background-color: #E8F0FE;\n",
              "      border: none;\n",
              "      border-radius: 50%;\n",
              "      cursor: pointer;\n",
              "      display: none;\n",
              "      fill: #1967D2;\n",
              "      height: 32px;\n",
              "      padding: 0 0 0 0;\n",
              "      width: 32px;\n",
              "    }\n",
              "\n",
              "    .colab-df-convert:hover {\n",
              "      background-color: #E2EBFA;\n",
              "      box-shadow: 0px 1px 2px rgba(60, 64, 67, 0.3), 0px 1px 3px 1px rgba(60, 64, 67, 0.15);\n",
              "      fill: #174EA6;\n",
              "    }\n",
              "\n",
              "    [theme=dark] .colab-df-convert {\n",
              "      background-color: #3B4455;\n",
              "      fill: #D2E3FC;\n",
              "    }\n",
              "\n",
              "    [theme=dark] .colab-df-convert:hover {\n",
              "      background-color: #434B5C;\n",
              "      box-shadow: 0px 1px 3px 1px rgba(0, 0, 0, 0.15);\n",
              "      filter: drop-shadow(0px 1px 2px rgba(0, 0, 0, 0.3));\n",
              "      fill: #FFFFFF;\n",
              "    }\n",
              "  </style>\n",
              "\n",
              "      <script>\n",
              "        const buttonEl =\n",
              "          document.querySelector('#df-bf284921-e97b-467e-b000-5ab977e4076d button.colab-df-convert');\n",
              "        buttonEl.style.display =\n",
              "          google.colab.kernel.accessAllowed ? 'block' : 'none';\n",
              "\n",
              "        async function convertToInteractive(key) {\n",
              "          const element = document.querySelector('#df-bf284921-e97b-467e-b000-5ab977e4076d');\n",
              "          const dataTable =\n",
              "            await google.colab.kernel.invokeFunction('convertToInteractive',\n",
              "                                                     [key], {});\n",
              "          if (!dataTable) return;\n",
              "\n",
              "          const docLinkHtml = 'Like what you see? Visit the ' +\n",
              "            '<a target=\"_blank\" href=https://colab.research.google.com/notebooks/data_table.ipynb>data table notebook</a>'\n",
              "            + ' to learn more about interactive tables.';\n",
              "          element.innerHTML = '';\n",
              "          dataTable['output_type'] = 'display_data';\n",
              "          await google.colab.output.renderOutput(dataTable, element);\n",
              "          const docLink = document.createElement('div');\n",
              "          docLink.innerHTML = docLinkHtml;\n",
              "          element.appendChild(docLink);\n",
              "        }\n",
              "      </script>\n",
              "    </div>\n",
              "  </div>\n",
              "  "
            ]
          },
          "metadata": {},
          "execution_count": 208
        }
      ]
    },
    {
      "cell_type": "code",
      "source": [
        "movies.groupby('genre').count()[movies]"
      ],
      "metadata": {
        "id": "0JKYEZh_RwXF"
      },
      "execution_count": null,
      "outputs": []
    },
    {
      "cell_type": "code",
      "source": [
        "groupedmovies = movies.groupby('genre').count()"
      ],
      "metadata": {
        "id": "3ZQa7kRASO-H"
      },
      "execution_count": 209,
      "outputs": []
    },
    {
      "cell_type": "code",
      "source": [
        "groupedmovies.describe()"
      ],
      "metadata": {
        "colab": {
          "base_uri": "https://localhost:8080/",
          "height": 300
        },
        "id": "xoGNNPeASZ_W",
        "outputId": "ce334587-fefa-4bef-92d1-1be766098746"
      },
      "execution_count": 210,
      "outputs": [
        {
          "output_type": "execute_result",
          "data": {
            "text/plain": [
              "            title        year      genres\n",
              "count  301.000000  301.000000  301.000000\n",
              "mean    12.900332   12.900332   12.900332\n",
              "std     60.277055   60.277055   60.277055\n",
              "min      1.000000    1.000000    1.000000\n",
              "25%      1.000000    1.000000    1.000000\n",
              "50%      2.000000    2.000000    2.000000\n",
              "75%      5.000000    5.000000    5.000000\n",
              "max    843.000000  843.000000  843.000000"
            ],
            "text/html": [
              "\n",
              "  <div id=\"df-065007c6-45b6-4056-8199-ab441f5aab88\">\n",
              "    <div class=\"colab-df-container\">\n",
              "      <div>\n",
              "<style scoped>\n",
              "    .dataframe tbody tr th:only-of-type {\n",
              "        vertical-align: middle;\n",
              "    }\n",
              "\n",
              "    .dataframe tbody tr th {\n",
              "        vertical-align: top;\n",
              "    }\n",
              "\n",
              "    .dataframe thead th {\n",
              "        text-align: right;\n",
              "    }\n",
              "</style>\n",
              "<table border=\"1\" class=\"dataframe\">\n",
              "  <thead>\n",
              "    <tr style=\"text-align: right;\">\n",
              "      <th></th>\n",
              "      <th>title</th>\n",
              "      <th>year</th>\n",
              "      <th>genres</th>\n",
              "    </tr>\n",
              "  </thead>\n",
              "  <tbody>\n",
              "    <tr>\n",
              "      <th>count</th>\n",
              "      <td>301.000000</td>\n",
              "      <td>301.000000</td>\n",
              "      <td>301.000000</td>\n",
              "    </tr>\n",
              "    <tr>\n",
              "      <th>mean</th>\n",
              "      <td>12.900332</td>\n",
              "      <td>12.900332</td>\n",
              "      <td>12.900332</td>\n",
              "    </tr>\n",
              "    <tr>\n",
              "      <th>std</th>\n",
              "      <td>60.277055</td>\n",
              "      <td>60.277055</td>\n",
              "      <td>60.277055</td>\n",
              "    </tr>\n",
              "    <tr>\n",
              "      <th>min</th>\n",
              "      <td>1.000000</td>\n",
              "      <td>1.000000</td>\n",
              "      <td>1.000000</td>\n",
              "    </tr>\n",
              "    <tr>\n",
              "      <th>25%</th>\n",
              "      <td>1.000000</td>\n",
              "      <td>1.000000</td>\n",
              "      <td>1.000000</td>\n",
              "    </tr>\n",
              "    <tr>\n",
              "      <th>50%</th>\n",
              "      <td>2.000000</td>\n",
              "      <td>2.000000</td>\n",
              "      <td>2.000000</td>\n",
              "    </tr>\n",
              "    <tr>\n",
              "      <th>75%</th>\n",
              "      <td>5.000000</td>\n",
              "      <td>5.000000</td>\n",
              "      <td>5.000000</td>\n",
              "    </tr>\n",
              "    <tr>\n",
              "      <th>max</th>\n",
              "      <td>843.000000</td>\n",
              "      <td>843.000000</td>\n",
              "      <td>843.000000</td>\n",
              "    </tr>\n",
              "  </tbody>\n",
              "</table>\n",
              "</div>\n",
              "      <button class=\"colab-df-convert\" onclick=\"convertToInteractive('df-065007c6-45b6-4056-8199-ab441f5aab88')\"\n",
              "              title=\"Convert this dataframe to an interactive table.\"\n",
              "              style=\"display:none;\">\n",
              "        \n",
              "  <svg xmlns=\"http://www.w3.org/2000/svg\" height=\"24px\"viewBox=\"0 0 24 24\"\n",
              "       width=\"24px\">\n",
              "    <path d=\"M0 0h24v24H0V0z\" fill=\"none\"/>\n",
              "    <path d=\"M18.56 5.44l.94 2.06.94-2.06 2.06-.94-2.06-.94-.94-2.06-.94 2.06-2.06.94zm-11 1L8.5 8.5l.94-2.06 2.06-.94-2.06-.94L8.5 2.5l-.94 2.06-2.06.94zm10 10l.94 2.06.94-2.06 2.06-.94-2.06-.94-.94-2.06-.94 2.06-2.06.94z\"/><path d=\"M17.41 7.96l-1.37-1.37c-.4-.4-.92-.59-1.43-.59-.52 0-1.04.2-1.43.59L10.3 9.45l-7.72 7.72c-.78.78-.78 2.05 0 2.83L4 21.41c.39.39.9.59 1.41.59.51 0 1.02-.2 1.41-.59l7.78-7.78 2.81-2.81c.8-.78.8-2.07 0-2.86zM5.41 20L4 18.59l7.72-7.72 1.47 1.35L5.41 20z\"/>\n",
              "  </svg>\n",
              "      </button>\n",
              "      \n",
              "  <style>\n",
              "    .colab-df-container {\n",
              "      display:flex;\n",
              "      flex-wrap:wrap;\n",
              "      gap: 12px;\n",
              "    }\n",
              "\n",
              "    .colab-df-convert {\n",
              "      background-color: #E8F0FE;\n",
              "      border: none;\n",
              "      border-radius: 50%;\n",
              "      cursor: pointer;\n",
              "      display: none;\n",
              "      fill: #1967D2;\n",
              "      height: 32px;\n",
              "      padding: 0 0 0 0;\n",
              "      width: 32px;\n",
              "    }\n",
              "\n",
              "    .colab-df-convert:hover {\n",
              "      background-color: #E2EBFA;\n",
              "      box-shadow: 0px 1px 2px rgba(60, 64, 67, 0.3), 0px 1px 3px 1px rgba(60, 64, 67, 0.15);\n",
              "      fill: #174EA6;\n",
              "    }\n",
              "\n",
              "    [theme=dark] .colab-df-convert {\n",
              "      background-color: #3B4455;\n",
              "      fill: #D2E3FC;\n",
              "    }\n",
              "\n",
              "    [theme=dark] .colab-df-convert:hover {\n",
              "      background-color: #434B5C;\n",
              "      box-shadow: 0px 1px 3px 1px rgba(0, 0, 0, 0.15);\n",
              "      filter: drop-shadow(0px 1px 2px rgba(0, 0, 0, 0.3));\n",
              "      fill: #FFFFFF;\n",
              "    }\n",
              "  </style>\n",
              "\n",
              "      <script>\n",
              "        const buttonEl =\n",
              "          document.querySelector('#df-065007c6-45b6-4056-8199-ab441f5aab88 button.colab-df-convert');\n",
              "        buttonEl.style.display =\n",
              "          google.colab.kernel.accessAllowed ? 'block' : 'none';\n",
              "\n",
              "        async function convertToInteractive(key) {\n",
              "          const element = document.querySelector('#df-065007c6-45b6-4056-8199-ab441f5aab88');\n",
              "          const dataTable =\n",
              "            await google.colab.kernel.invokeFunction('convertToInteractive',\n",
              "                                                     [key], {});\n",
              "          if (!dataTable) return;\n",
              "\n",
              "          const docLinkHtml = 'Like what you see? Visit the ' +\n",
              "            '<a target=\"_blank\" href=https://colab.research.google.com/notebooks/data_table.ipynb>data table notebook</a>'\n",
              "            + ' to learn more about interactive tables.';\n",
              "          element.innerHTML = '';\n",
              "          dataTable['output_type'] = 'display_data';\n",
              "          await google.colab.output.renderOutput(dataTable, element);\n",
              "          const docLink = document.createElement('div');\n",
              "          docLink.innerHTML = docLinkHtml;\n",
              "          element.appendChild(docLink);\n",
              "        }\n",
              "      </script>\n",
              "    </div>\n",
              "  </div>\n",
              "  "
            ]
          },
          "metadata": {},
          "execution_count": 210
        }
      ]
    },
    {
      "cell_type": "markdown",
      "source": [
        "##Numpy"
      ],
      "metadata": {
        "id": "bBbP8iRrTfgw"
      }
    },
    {
      "cell_type": "code",
      "source": [
        "import numpy as np"
      ],
      "metadata": {
        "id": "XtrIKajJThMN"
      },
      "execution_count": 211,
      "outputs": []
    },
    {
      "cell_type": "code",
      "source": [
        "a = np.int16(3)"
      ],
      "metadata": {
        "id": "O0rMNMkoUHMa"
      },
      "execution_count": 212,
      "outputs": []
    },
    {
      "cell_type": "code",
      "source": [
        "a.dtype"
      ],
      "metadata": {
        "colab": {
          "base_uri": "https://localhost:8080/"
        },
        "id": "PP25WlF3UWPm",
        "outputId": "629c9b8a-3f10-4b57-d596-a3e457b30ea1"
      },
      "execution_count": 214,
      "outputs": [
        {
          "output_type": "execute_result",
          "data": {
            "text/plain": [
              "dtype('int16')"
            ]
          },
          "metadata": {},
          "execution_count": 214
        }
      ]
    },
    {
      "cell_type": "code",
      "source": [
        "a = np.int8(3)\n",
        "#x le immagini"
      ],
      "metadata": {
        "id": "IW_pOgSWUbaX"
      },
      "execution_count": 216,
      "outputs": []
    },
    {
      "cell_type": "code",
      "source": [
        "print(np.int8(10))"
      ],
      "metadata": {
        "colab": {
          "base_uri": "https://localhost:8080/"
        },
        "id": "TnC_8TOWUn5z",
        "outputId": "f5c1bac2-7291-450f-83be-f608a646f596"
      },
      "execution_count": 217,
      "outputs": [
        {
          "output_type": "stream",
          "name": "stdout",
          "text": [
            "10\n"
          ]
        }
      ]
    },
    {
      "cell_type": "code",
      "source": [
        "print(np.int8(100))"
      ],
      "metadata": {
        "colab": {
          "base_uri": "https://localhost:8080/"
        },
        "id": "uThnDLnmU07k",
        "outputId": "b2bea0e4-87d2-477a-b7f3-03dfc5bb228b"
      },
      "execution_count": 218,
      "outputs": [
        {
          "output_type": "stream",
          "name": "stdout",
          "text": [
            "100\n"
          ]
        }
      ]
    },
    {
      "cell_type": "code",
      "source": [
        "print(np.int8(200))\n",
        "#crea da -128 a 128"
      ],
      "metadata": {
        "colab": {
          "base_uri": "https://localhost:8080/"
        },
        "id": "s_JBCNiUU2Wq",
        "outputId": "175dd91a-028a-4e79-ffe4-bbd5560357cd"
      },
      "execution_count": 223,
      "outputs": [
        {
          "output_type": "stream",
          "name": "stdout",
          "text": [
            "-56\n"
          ]
        }
      ]
    },
    {
      "cell_type": "code",
      "source": [
        "print(np.uint8(256))\n",
        "#con il segno arrivo da 0 fino a 255"
      ],
      "metadata": {
        "colab": {
          "base_uri": "https://localhost:8080/"
        },
        "id": "faMkJ8TvU4Nq",
        "outputId": "c9bfc32e-65ea-47d0-ee96-d630ae857a04"
      },
      "execution_count": 225,
      "outputs": [
        {
          "output_type": "stream",
          "name": "stdout",
          "text": [
            "0\n"
          ]
        }
      ]
    },
    {
      "cell_type": "code",
      "source": [
        "#np.array(glist) TRASFORMO LA LISTA IN ARRAY\n",
        "listVar"
      ],
      "metadata": {
        "colab": {
          "base_uri": "https://localhost:8080/"
        },
        "id": "KMMSzZt4VBwE",
        "outputId": "11ef8aab-d3d2-45ca-9ebe-63a84dd88fee"
      },
      "execution_count": 226,
      "outputs": [
        {
          "output_type": "execute_result",
          "data": {
            "text/plain": [
              "[3, 9, 'hello world', 0, True, 11]"
            ]
          },
          "metadata": {},
          "execution_count": 226
        }
      ]
    },
    {
      "cell_type": "code",
      "source": [
        "np.array(listVar)"
      ],
      "metadata": {
        "colab": {
          "base_uri": "https://localhost:8080/"
        },
        "id": "t6ztMXJQWTjt",
        "outputId": "33f95c3b-7e1b-4f7b-f896-a6c20a58f77e"
      },
      "execution_count": 227,
      "outputs": [
        {
          "output_type": "execute_result",
          "data": {
            "text/plain": [
              "array(['3', '9', 'hello world', '0', 'True', '11'], dtype='<U21')"
            ]
          },
          "metadata": {},
          "execution_count": 227
        }
      ]
    },
    {
      "cell_type": "code",
      "source": [
        "np.zeros(10, float)"
      ],
      "metadata": {
        "colab": {
          "base_uri": "https://localhost:8080/"
        },
        "id": "qcMocEjEWXP1",
        "outputId": "22b38134-b4a0-46af-d3d4-59b1e4f5f8a5"
      },
      "execution_count": 229,
      "outputs": [
        {
          "output_type": "execute_result",
          "data": {
            "text/plain": [
              "array([0., 0., 0., 0., 0., 0., 0., 0., 0., 0.])"
            ]
          },
          "metadata": {},
          "execution_count": 229
        }
      ]
    },
    {
      "cell_type": "code",
      "source": [
        "np.zeros((10,2), float)"
      ],
      "metadata": {
        "colab": {
          "base_uri": "https://localhost:8080/"
        },
        "id": "jaTu3HtPWeZ3",
        "outputId": "f783dcd2-1eb0-4c16-8d6a-a807d1f1b4ae"
      },
      "execution_count": 230,
      "outputs": [
        {
          "output_type": "execute_result",
          "data": {
            "text/plain": [
              "array([[0., 0.],\n",
              "       [0., 0.],\n",
              "       [0., 0.],\n",
              "       [0., 0.],\n",
              "       [0., 0.],\n",
              "       [0., 0.],\n",
              "       [0., 0.],\n",
              "       [0., 0.],\n",
              "       [0., 0.],\n",
              "       [0., 0.]])"
            ]
          },
          "metadata": {},
          "execution_count": 230
        }
      ]
    },
    {
      "cell_type": "code",
      "source": [
        "np.random.randn(10,2)\n",
        "#è un sottopacchetto di numpy\n",
        "#from numpy import random"
      ],
      "metadata": {
        "colab": {
          "base_uri": "https://localhost:8080/"
        },
        "id": "UMSTL4adWueD",
        "outputId": "8d34558c-f531-42a5-9c8d-38e3b2b45ee7"
      },
      "execution_count": 232,
      "outputs": [
        {
          "output_type": "execute_result",
          "data": {
            "text/plain": [
              "array([[ 1.00173273,  1.73453043],\n",
              "       [ 1.10959719, -1.53079526],\n",
              "       [ 2.24016161, -1.54840215],\n",
              "       [-1.8353375 ,  0.222324  ],\n",
              "       [-0.52485909, -2.16110278],\n",
              "       [-0.8633401 , -1.34935993],\n",
              "       [ 0.22180904, -1.84385243],\n",
              "       [-1.20100223,  1.49001134],\n",
              "       [ 0.31758123,  0.0248859 ],\n",
              "       [-0.07100768,  2.09204811]])"
            ]
          },
          "metadata": {},
          "execution_count": 232
        }
      ]
    },
    {
      "cell_type": "code",
      "source": [
        "randArr = np.random.randn(10,2,3)"
      ],
      "metadata": {
        "id": "EsCKZpAgXFUs"
      },
      "execution_count": 234,
      "outputs": []
    },
    {
      "cell_type": "code",
      "source": [
        "randArr[0]\n",
        "#è la prima colonna"
      ],
      "metadata": {
        "colab": {
          "base_uri": "https://localhost:8080/"
        },
        "id": "Y7Y8TIxGXNgv",
        "outputId": "e67c1414-169f-4943-c079-24c369d7511c"
      },
      "execution_count": 238,
      "outputs": [
        {
          "output_type": "execute_result",
          "data": {
            "text/plain": [
              "array([[ 1.15081186, -1.47882316, -0.90234588],\n",
              "       [-2.00978488, -0.59545302, -0.46258712]])"
            ]
          },
          "metadata": {},
          "execution_count": 238
        }
      ]
    },
    {
      "cell_type": "code",
      "source": [
        "randArr[0].shape"
      ],
      "metadata": {
        "colab": {
          "base_uri": "https://localhost:8080/"
        },
        "id": "SkalnzdXXX-k",
        "outputId": "cc3827ec-95d4-4199-ceef-37c2d70bb747"
      },
      "execution_count": 239,
      "outputs": [
        {
          "output_type": "execute_result",
          "data": {
            "text/plain": [
              "(2, 3)"
            ]
          },
          "metadata": {},
          "execution_count": 239
        }
      ]
    },
    {
      "cell_type": "code",
      "source": [
        "randArr[1:6].shape"
      ],
      "metadata": {
        "colab": {
          "base_uri": "https://localhost:8080/"
        },
        "id": "2yi5phbBXjHF",
        "outputId": "5feaf6a9-bb2f-461a-8c37-3a5507e358b4"
      },
      "execution_count": 240,
      "outputs": [
        {
          "output_type": "execute_result",
          "data": {
            "text/plain": [
              "(5, 2, 3)"
            ]
          },
          "metadata": {},
          "execution_count": 240
        }
      ]
    },
    {
      "cell_type": "code",
      "source": [
        "randArr[1:6]"
      ],
      "metadata": {
        "colab": {
          "base_uri": "https://localhost:8080/"
        },
        "id": "VEXXh5TKXxCs",
        "outputId": "ec4b7877-642b-4791-e23a-f77092a1b1e8"
      },
      "execution_count": 241,
      "outputs": [
        {
          "output_type": "execute_result",
          "data": {
            "text/plain": [
              "array([[[ 0.39693452, -1.10585955,  0.11310983],\n",
              "        [ 0.64468631,  0.08499185, -1.03661095]],\n",
              "\n",
              "       [[-1.94330758, -0.64515545,  0.35677291],\n",
              "        [-1.07177803,  1.4546628 ,  0.77685485]],\n",
              "\n",
              "       [[ 0.20368583, -2.28219972,  0.31470985],\n",
              "        [ 0.17906431,  0.33839762, -0.26625384]],\n",
              "\n",
              "       [[ 0.11043608,  0.17066056, -0.79819339],\n",
              "        [-0.73319889, -0.94012902, -0.1528265 ]],\n",
              "\n",
              "       [[ 1.57640846, -0.37479351, -0.35211082],\n",
              "        [ 0.31684252, -0.39677579,  0.35878827]]])"
            ]
          },
          "metadata": {},
          "execution_count": 241
        }
      ]
    },
    {
      "cell_type": "code",
      "source": [
        "randArr[:, 0]"
      ],
      "metadata": {
        "colab": {
          "base_uri": "https://localhost:8080/"
        },
        "id": "DolDBkN5X0zt",
        "outputId": "83f200c5-3597-4b43-d38e-7bf4fb70a300"
      },
      "execution_count": 242,
      "outputs": [
        {
          "output_type": "execute_result",
          "data": {
            "text/plain": [
              "array([[ 1.15081186, -1.47882316, -0.90234588],\n",
              "       [ 0.39693452, -1.10585955,  0.11310983],\n",
              "       [-1.94330758, -0.64515545,  0.35677291],\n",
              "       [ 0.20368583, -2.28219972,  0.31470985],\n",
              "       [ 0.11043608,  0.17066056, -0.79819339],\n",
              "       [ 1.57640846, -0.37479351, -0.35211082],\n",
              "       [-0.80044172,  2.53381813, -0.09293876],\n",
              "       [ 0.56024967, -0.66532868,  0.31860284],\n",
              "       [-0.58223438,  1.22098816, -1.4182723 ],\n",
              "       [ 1.92590057, -1.01631791, -0.07279313]])"
            ]
          },
          "metadata": {},
          "execution_count": 242
        }
      ]
    },
    {
      "cell_type": "code",
      "source": [
        "randArr[:, 0].shape"
      ],
      "metadata": {
        "colab": {
          "base_uri": "https://localhost:8080/"
        },
        "id": "2o2uhK0BYDAG",
        "outputId": "828a6d76-f42d-408a-daef-c50352ada483"
      },
      "execution_count": 244,
      "outputs": [
        {
          "output_type": "execute_result",
          "data": {
            "text/plain": [
              "(10, 3)"
            ]
          },
          "metadata": {},
          "execution_count": 244
        }
      ]
    },
    {
      "cell_type": "code",
      "source": [
        "randArr[ randArr > 0]"
      ],
      "metadata": {
        "colab": {
          "base_uri": "https://localhost:8080/"
        },
        "id": "iGaxiUwoYEl2",
        "outputId": "54c0caca-7585-477d-8b04-7ae8afce76e8"
      },
      "execution_count": 245,
      "outputs": [
        {
          "output_type": "execute_result",
          "data": {
            "text/plain": [
              "array([1.15081186, 0.39693452, 0.11310983, 0.64468631, 0.08499185,\n",
              "       0.35677291, 1.4546628 , 0.77685485, 0.20368583, 0.31470985,\n",
              "       0.17906431, 0.33839762, 0.11043608, 0.17066056, 1.57640846,\n",
              "       0.31684252, 0.35878827, 2.53381813, 0.38426171, 0.44206563,\n",
              "       0.56024967, 0.31860284, 1.22098816, 1.05319729, 0.13877227,\n",
              "       0.84392871, 1.92590057, 1.42606518, 1.00302005])"
            ]
          },
          "metadata": {},
          "execution_count": 245
        }
      ]
    },
    {
      "cell_type": "code",
      "source": [
        "randArr[ randArr > 0].shape"
      ],
      "metadata": {
        "colab": {
          "base_uri": "https://localhost:8080/"
        },
        "id": "rbhtogiTYd12",
        "outputId": "7aaff2c0-394a-4646-c84c-750711de0432"
      },
      "execution_count": 247,
      "outputs": [
        {
          "output_type": "execute_result",
          "data": {
            "text/plain": [
              "(29,)"
            ]
          },
          "metadata": {},
          "execution_count": 247
        }
      ]
    },
    {
      "cell_type": "code",
      "source": [
        "list10 = list(range(10))\n",
        "rageArr1 = np.arange(0,10,0.1)"
      ],
      "metadata": {
        "id": "mKIVFV6MYiAE"
      },
      "execution_count": 255,
      "outputs": []
    },
    {
      "cell_type": "code",
      "source": [
        "rageArr1 = rageArr1.reshape(10,10)"
      ],
      "metadata": {
        "id": "OTqjiTn0ZKPu"
      },
      "execution_count": 256,
      "outputs": []
    },
    {
      "cell_type": "code",
      "source": [
        "rageArr1 * 2"
      ],
      "metadata": {
        "colab": {
          "base_uri": "https://localhost:8080/"
        },
        "id": "vITAdNhzYuYN",
        "outputId": "3d46d8c4-8de4-429d-c4a7-6bb5c7d13187"
      },
      "execution_count": 258,
      "outputs": [
        {
          "output_type": "execute_result",
          "data": {
            "text/plain": [
              "array([[ 0. ,  0.2,  0.4,  0.6,  0.8,  1. ,  1.2,  1.4,  1.6,  1.8],\n",
              "       [ 2. ,  2.2,  2.4,  2.6,  2.8,  3. ,  3.2,  3.4,  3.6,  3.8],\n",
              "       [ 4. ,  4.2,  4.4,  4.6,  4.8,  5. ,  5.2,  5.4,  5.6,  5.8],\n",
              "       [ 6. ,  6.2,  6.4,  6.6,  6.8,  7. ,  7.2,  7.4,  7.6,  7.8],\n",
              "       [ 8. ,  8.2,  8.4,  8.6,  8.8,  9. ,  9.2,  9.4,  9.6,  9.8],\n",
              "       [10. , 10.2, 10.4, 10.6, 10.8, 11. , 11.2, 11.4, 11.6, 11.8],\n",
              "       [12. , 12.2, 12.4, 12.6, 12.8, 13. , 13.2, 13.4, 13.6, 13.8],\n",
              "       [14. , 14.2, 14.4, 14.6, 14.8, 15. , 15.2, 15.4, 15.6, 15.8],\n",
              "       [16. , 16.2, 16.4, 16.6, 16.8, 17. , 17.2, 17.4, 17.6, 17.8],\n",
              "       [18. , 18.2, 18.4, 18.6, 18.8, 19. , 19.2, 19.4, 19.6, 19.8]])"
            ]
          },
          "metadata": {},
          "execution_count": 258
        }
      ]
    },
    {
      "cell_type": "code",
      "source": [
        "list10 * 2\n",
        "#concatena due liste identiche"
      ],
      "metadata": {
        "colab": {
          "base_uri": "https://localhost:8080/"
        },
        "id": "5cZqAsHuZXda",
        "outputId": "94184aa9-f809-41de-feb8-0b39863c818c"
      },
      "execution_count": 263,
      "outputs": [
        {
          "output_type": "execute_result",
          "data": {
            "text/plain": [
              "[0, 1, 2, 3, 4, 5, 6, 7, 8, 9, 0, 1, 2, 3, 4, 5, 6, 7, 8, 9]"
            ]
          },
          "metadata": {},
          "execution_count": 263
        }
      ]
    },
    {
      "cell_type": "markdown",
      "source": [
        "##EXERCISE: (DA FARE)\n",
        "* create a function that takes a string \\\\\n",
        "* checks if the string is a palindrome \\\\\n",
        "* returns 1 if true\n",
        "* return -1 if false\n",
        "* and also prints “Yes its a palindrome”\n",
        "* or “this is not a palindrome”\n",
        "* add a print statement that prints ONLY the unique part (rad in radar)\n",
        "\n",
        "\n",
        "\n",
        "\n",
        "\n",
        "\n"
      ],
      "metadata": {
        "id": "I0lxMlJSb5cV"
      }
    },
    {
      "cell_type": "code",
      "source": [
        "def pali(word):\n",
        "  if type(word) == str:\n",
        "    word = word.lower()\n",
        "    rword = word[::-1]\n",
        "    \n",
        "    if word == rword:\n",
        "      print(word,'è una parola palindroma')\n",
        "    else:\n",
        "      print(word, 'non è palindroma')\n",
        "  else:\n",
        "    print('Devi inserire una stringa')\n"
      ],
      "metadata": {
        "id": "Ed2PXcTocIsW"
      },
      "execution_count": 271,
      "outputs": []
    },
    {
      "cell_type": "code",
      "source": [
        "pali('ciaoaic')"
      ],
      "metadata": {
        "colab": {
          "base_uri": "https://localhost:8080/"
        },
        "id": "qxXvoByvdtZ3",
        "outputId": "de5b77e7-6b79-4797-9370-c33d3f7cf43d"
      },
      "execution_count": 275,
      "outputs": [
        {
          "output_type": "stream",
          "name": "stdout",
          "text": [
            "ciaoaic è una parola palindroma\n"
          ]
        }
      ]
    },
    {
      "cell_type": "markdown",
      "source": [
        "EXERCISE:\n",
        "* create a numpy array containing numbers from 1 to 10\n",
        "* extract only even numbers with boolean operations\n",
        "* reverse it\n",
        "* make all those number odd (hint: you can use use range or np.arange to create the array)"
      ],
      "metadata": {
        "id": "lM58l-_cfhSp"
      }
    },
    {
      "cell_type": "code",
      "source": [
        "arr = np.random.randn()"
      ],
      "metadata": {
        "colab": {
          "base_uri": "https://localhost:8080/"
        },
        "id": "jDGWAcsFfneu",
        "outputId": "e902bb58-45ee-42cf-a7a8-b90f7f88b848"
      },
      "execution_count": 276,
      "outputs": [
        {
          "output_type": "execute_result",
          "data": {
            "text/plain": [
              "0"
            ]
          },
          "metadata": {},
          "execution_count": 276
        }
      ]
    },
    {
      "cell_type": "markdown",
      "source": [
        "##matplotlib"
      ],
      "metadata": {
        "id": "Rxv3xnWNgWPm"
      }
    },
    {
      "cell_type": "code",
      "source": [
        "import matplotlib as mpl"
      ],
      "metadata": {
        "id": "G5Vvh2OAgYNU"
      },
      "execution_count": 277,
      "outputs": []
    },
    {
      "cell_type": "code",
      "source": [
        "import pylab as pl"
      ],
      "metadata": {
        "id": "yS5PR_idgdCu"
      },
      "execution_count": 281,
      "outputs": []
    },
    {
      "cell_type": "code",
      "source": [
        "pl.rcParams"
      ],
      "metadata": {
        "colab": {
          "base_uri": "https://localhost:8080/"
        },
        "id": "4NT1bLIYggU3",
        "outputId": "4f79c045-cc4d-4043-b74a-af60f3819281"
      },
      "execution_count": 282,
      "outputs": [
        {
          "output_type": "execute_result",
          "data": {
            "text/plain": [
              "RcParams({'_internal.classic_mode': False,\n",
              "          'agg.path.chunksize': 0,\n",
              "          'animation.bitrate': -1,\n",
              "          'animation.codec': 'h264',\n",
              "          'animation.convert_args': [],\n",
              "          'animation.convert_path': 'convert',\n",
              "          'animation.embed_limit': 20.0,\n",
              "          'animation.ffmpeg_args': [],\n",
              "          'animation.ffmpeg_path': 'ffmpeg',\n",
              "          'animation.frame_format': 'png',\n",
              "          'animation.html': 'none',\n",
              "          'animation.writer': 'ffmpeg',\n",
              "          'axes.autolimit_mode': 'data',\n",
              "          'axes.axisbelow': 'line',\n",
              "          'axes.edgecolor': 'black',\n",
              "          'axes.facecolor': 'white',\n",
              "          'axes.formatter.limits': [-5, 6],\n",
              "          'axes.formatter.min_exponent': 0,\n",
              "          'axes.formatter.offset_threshold': 4,\n",
              "          'axes.formatter.use_locale': False,\n",
              "          'axes.formatter.use_mathtext': False,\n",
              "          'axes.formatter.useoffset': True,\n",
              "          'axes.grid': False,\n",
              "          'axes.grid.axis': 'both',\n",
              "          'axes.grid.which': 'major',\n",
              "          'axes.labelcolor': 'black',\n",
              "          'axes.labelpad': 4.0,\n",
              "          'axes.labelsize': 'medium',\n",
              "          'axes.labelweight': 'normal',\n",
              "          'axes.linewidth': 0.8,\n",
              "          'axes.prop_cycle': cycler('color', ['#1f77b4', '#ff7f0e', '#2ca02c', '#d62728', '#9467bd', '#8c564b', '#e377c2', '#7f7f7f', '#bcbd22', '#17becf']),\n",
              "          'axes.spines.bottom': True,\n",
              "          'axes.spines.left': True,\n",
              "          'axes.spines.right': True,\n",
              "          'axes.spines.top': True,\n",
              "          'axes.titlecolor': 'auto',\n",
              "          'axes.titlelocation': 'center',\n",
              "          'axes.titlepad': 6.0,\n",
              "          'axes.titlesize': 'large',\n",
              "          'axes.titleweight': 'normal',\n",
              "          'axes.titley': None,\n",
              "          'axes.unicode_minus': True,\n",
              "          'axes.xmargin': 0.05,\n",
              "          'axes.ymargin': 0.05,\n",
              "          'axes.zmargin': 0.05,\n",
              "          'axes3d.grid': True,\n",
              "          'backend': 'module://ipykernel.pylab.backend_inline',\n",
              "          'backend_fallback': True,\n",
              "          'boxplot.bootstrap': None,\n",
              "          'boxplot.boxprops.color': 'black',\n",
              "          'boxplot.boxprops.linestyle': '-',\n",
              "          'boxplot.boxprops.linewidth': 1.0,\n",
              "          'boxplot.capprops.color': 'black',\n",
              "          'boxplot.capprops.linestyle': '-',\n",
              "          'boxplot.capprops.linewidth': 1.0,\n",
              "          'boxplot.flierprops.color': 'black',\n",
              "          'boxplot.flierprops.linestyle': 'none',\n",
              "          'boxplot.flierprops.linewidth': 1.0,\n",
              "          'boxplot.flierprops.marker': 'o',\n",
              "          'boxplot.flierprops.markeredgecolor': 'black',\n",
              "          'boxplot.flierprops.markeredgewidth': 1.0,\n",
              "          'boxplot.flierprops.markerfacecolor': 'none',\n",
              "          'boxplot.flierprops.markersize': 6.0,\n",
              "          'boxplot.meanline': False,\n",
              "          'boxplot.meanprops.color': 'C2',\n",
              "          'boxplot.meanprops.linestyle': '--',\n",
              "          'boxplot.meanprops.linewidth': 1.0,\n",
              "          'boxplot.meanprops.marker': '^',\n",
              "          'boxplot.meanprops.markeredgecolor': 'C2',\n",
              "          'boxplot.meanprops.markerfacecolor': 'C2',\n",
              "          'boxplot.meanprops.markersize': 6.0,\n",
              "          'boxplot.medianprops.color': 'C1',\n",
              "          'boxplot.medianprops.linestyle': '-',\n",
              "          'boxplot.medianprops.linewidth': 1.0,\n",
              "          'boxplot.notch': False,\n",
              "          'boxplot.patchartist': False,\n",
              "          'boxplot.showbox': True,\n",
              "          'boxplot.showcaps': True,\n",
              "          'boxplot.showfliers': True,\n",
              "          'boxplot.showmeans': False,\n",
              "          'boxplot.vertical': True,\n",
              "          'boxplot.whiskerprops.color': 'black',\n",
              "          'boxplot.whiskerprops.linestyle': '-',\n",
              "          'boxplot.whiskerprops.linewidth': 1.0,\n",
              "          'boxplot.whiskers': 1.5,\n",
              "          'contour.corner_mask': True,\n",
              "          'contour.linewidth': None,\n",
              "          'contour.negative_linestyle': 'dashed',\n",
              "          'date.autoformatter.day': '%Y-%m-%d',\n",
              "          'date.autoformatter.hour': '%m-%d %H',\n",
              "          'date.autoformatter.microsecond': '%M:%S.%f',\n",
              "          'date.autoformatter.minute': '%d %H:%M',\n",
              "          'date.autoformatter.month': '%Y-%m',\n",
              "          'date.autoformatter.second': '%H:%M:%S',\n",
              "          'date.autoformatter.year': '%Y',\n",
              "          'date.converter': 'auto',\n",
              "          'date.epoch': '1970-01-01T00:00:00',\n",
              "          'date.interval_multiples': True,\n",
              "          'docstring.hardcopy': False,\n",
              "          'errorbar.capsize': 0.0,\n",
              "          'figure.autolayout': False,\n",
              "          'figure.constrained_layout.h_pad': 0.04167,\n",
              "          'figure.constrained_layout.hspace': 0.02,\n",
              "          'figure.constrained_layout.use': False,\n",
              "          'figure.constrained_layout.w_pad': 0.04167,\n",
              "          'figure.constrained_layout.wspace': 0.02,\n",
              "          'figure.dpi': 72.0,\n",
              "          'figure.edgecolor': (1, 1, 1, 0),\n",
              "          'figure.facecolor': (1, 1, 1, 0),\n",
              "          'figure.figsize': [6.0, 4.0],\n",
              "          'figure.frameon': True,\n",
              "          'figure.max_open_warning': 20,\n",
              "          'figure.raise_window': True,\n",
              "          'figure.subplot.bottom': 0.125,\n",
              "          'figure.subplot.hspace': 0.2,\n",
              "          'figure.subplot.left': 0.125,\n",
              "          'figure.subplot.right': 0.9,\n",
              "          'figure.subplot.top': 0.88,\n",
              "          'figure.subplot.wspace': 0.2,\n",
              "          'figure.titlesize': 'large',\n",
              "          'figure.titleweight': 'normal',\n",
              "          'font.cursive': ['Apple Chancery',\n",
              "                           'Textile',\n",
              "                           'Zapf Chancery',\n",
              "                           'Sand',\n",
              "                           'Script MT',\n",
              "                           'Felipa',\n",
              "                           'Comic Neue',\n",
              "                           'Comic Sans MS',\n",
              "                           'cursive'],\n",
              "          'font.family': ['sans-serif'],\n",
              "          'font.fantasy': ['Chicago',\n",
              "                           'Charcoal',\n",
              "                           'Impact',\n",
              "                           'Western',\n",
              "                           'Humor Sans',\n",
              "                           'xkcd',\n",
              "                           'fantasy'],\n",
              "          'font.monospace': ['DejaVu Sans Mono',\n",
              "                             'Bitstream Vera Sans Mono',\n",
              "                             'Computer Modern Typewriter',\n",
              "                             'Andale Mono',\n",
              "                             'Nimbus Mono L',\n",
              "                             'Courier New',\n",
              "                             'Courier',\n",
              "                             'Fixed',\n",
              "                             'Terminal',\n",
              "                             'monospace'],\n",
              "          'font.sans-serif': ['DejaVu Sans',\n",
              "                              'Bitstream Vera Sans',\n",
              "                              'Computer Modern Sans Serif',\n",
              "                              'Lucida Grande',\n",
              "                              'Verdana',\n",
              "                              'Geneva',\n",
              "                              'Lucid',\n",
              "                              'Arial',\n",
              "                              'Helvetica',\n",
              "                              'Avant Garde',\n",
              "                              'sans-serif'],\n",
              "          'font.serif': ['DejaVu Serif',\n",
              "                         'Bitstream Vera Serif',\n",
              "                         'Computer Modern Roman',\n",
              "                         'New Century Schoolbook',\n",
              "                         'Century Schoolbook L',\n",
              "                         'Utopia',\n",
              "                         'ITC Bookman',\n",
              "                         'Bookman',\n",
              "                         'Nimbus Roman No9 L',\n",
              "                         'Times New Roman',\n",
              "                         'Times',\n",
              "                         'Palatino',\n",
              "                         'Charter',\n",
              "                         'serif'],\n",
              "          'font.size': 10.0,\n",
              "          'font.stretch': 'normal',\n",
              "          'font.style': 'normal',\n",
              "          'font.variant': 'normal',\n",
              "          'font.weight': 'normal',\n",
              "          'grid.alpha': 1.0,\n",
              "          'grid.color': '#b0b0b0',\n",
              "          'grid.linestyle': '-',\n",
              "          'grid.linewidth': 0.8,\n",
              "          'hatch.color': 'black',\n",
              "          'hatch.linewidth': 1.0,\n",
              "          'hist.bins': 10,\n",
              "          'image.aspect': 'equal',\n",
              "          'image.cmap': 'viridis',\n",
              "          'image.composite_image': True,\n",
              "          'image.interpolation': 'antialiased',\n",
              "          'image.lut': 256,\n",
              "          'image.origin': 'upper',\n",
              "          'image.resample': True,\n",
              "          'interactive': True,\n",
              "          'keymap.back': ['left', 'c', 'backspace', 'MouseButton.BACK'],\n",
              "          'keymap.copy': ['ctrl+c', 'cmd+c'],\n",
              "          'keymap.forward': ['right', 'v', 'MouseButton.FORWARD'],\n",
              "          'keymap.fullscreen': ['f', 'ctrl+f'],\n",
              "          'keymap.grid': ['g'],\n",
              "          'keymap.grid_minor': ['G'],\n",
              "          'keymap.help': ['f1'],\n",
              "          'keymap.home': ['h', 'r', 'home'],\n",
              "          'keymap.pan': ['p'],\n",
              "          'keymap.quit': ['ctrl+w', 'cmd+w', 'q'],\n",
              "          'keymap.quit_all': [],\n",
              "          'keymap.save': ['s', 'ctrl+s'],\n",
              "          'keymap.xscale': ['k', 'L'],\n",
              "          'keymap.yscale': ['l'],\n",
              "          'keymap.zoom': ['o'],\n",
              "          'legend.borderaxespad': 0.5,\n",
              "          'legend.borderpad': 0.4,\n",
              "          'legend.columnspacing': 2.0,\n",
              "          'legend.edgecolor': '0.8',\n",
              "          'legend.facecolor': 'inherit',\n",
              "          'legend.fancybox': True,\n",
              "          'legend.fontsize': 'medium',\n",
              "          'legend.framealpha': 0.8,\n",
              "          'legend.frameon': True,\n",
              "          'legend.handleheight': 0.7,\n",
              "          'legend.handlelength': 2.0,\n",
              "          'legend.handletextpad': 0.8,\n",
              "          'legend.labelcolor': 'None',\n",
              "          'legend.labelspacing': 0.5,\n",
              "          'legend.loc': 'best',\n",
              "          'legend.markerscale': 1.0,\n",
              "          'legend.numpoints': 1,\n",
              "          'legend.scatterpoints': 1,\n",
              "          'legend.shadow': False,\n",
              "          'legend.title_fontsize': None,\n",
              "          'lines.antialiased': True,\n",
              "          'lines.color': 'C0',\n",
              "          'lines.dash_capstyle': <CapStyle.butt: 'butt'>,\n",
              "          'lines.dash_joinstyle': <JoinStyle.round: 'round'>,\n",
              "          'lines.dashdot_pattern': [6.4, 1.6, 1.0, 1.6],\n",
              "          'lines.dashed_pattern': [3.7, 1.6],\n",
              "          'lines.dotted_pattern': [1.0, 1.65],\n",
              "          'lines.linestyle': '-',\n",
              "          'lines.linewidth': 1.5,\n",
              "          'lines.marker': 'None',\n",
              "          'lines.markeredgecolor': 'auto',\n",
              "          'lines.markeredgewidth': 1.0,\n",
              "          'lines.markerfacecolor': 'auto',\n",
              "          'lines.markersize': 6.0,\n",
              "          'lines.scale_dashes': True,\n",
              "          'lines.solid_capstyle': <CapStyle.projecting: 'projecting'>,\n",
              "          'lines.solid_joinstyle': <JoinStyle.round: 'round'>,\n",
              "          'markers.fillstyle': 'full',\n",
              "          'mathtext.bf': 'sans:bold',\n",
              "          'mathtext.cal': 'cursive',\n",
              "          'mathtext.default': 'it',\n",
              "          'mathtext.fallback': 'cm',\n",
              "          'mathtext.fontset': 'dejavusans',\n",
              "          'mathtext.it': 'sans:italic',\n",
              "          'mathtext.rm': 'sans',\n",
              "          'mathtext.sf': 'sans',\n",
              "          'mathtext.tt': 'monospace',\n",
              "          'patch.antialiased': True,\n",
              "          'patch.edgecolor': 'black',\n",
              "          'patch.facecolor': 'C0',\n",
              "          'patch.force_edgecolor': False,\n",
              "          'patch.linewidth': 1.0,\n",
              "          'path.effects': [],\n",
              "          'path.simplify': True,\n",
              "          'path.simplify_threshold': 0.111111111111,\n",
              "          'path.sketch': None,\n",
              "          'path.snap': True,\n",
              "          'pcolor.shading': 'auto',\n",
              "          'pcolormesh.snap': True,\n",
              "          'pdf.compression': 6,\n",
              "          'pdf.fonttype': 3,\n",
              "          'pdf.inheritcolor': False,\n",
              "          'pdf.use14corefonts': False,\n",
              "          'pgf.preamble': '',\n",
              "          'pgf.rcfonts': True,\n",
              "          'pgf.texsystem': 'xelatex',\n",
              "          'polaraxes.grid': True,\n",
              "          'ps.distiller.res': 6000,\n",
              "          'ps.fonttype': 3,\n",
              "          'ps.papersize': 'letter',\n",
              "          'ps.useafm': False,\n",
              "          'ps.usedistiller': None,\n",
              "          'savefig.bbox': None,\n",
              "          'savefig.directory': '~',\n",
              "          'savefig.dpi': 'figure',\n",
              "          'savefig.edgecolor': 'auto',\n",
              "          'savefig.facecolor': 'auto',\n",
              "          'savefig.format': 'png',\n",
              "          'savefig.orientation': 'portrait',\n",
              "          'savefig.pad_inches': 0.1,\n",
              "          'savefig.transparent': False,\n",
              "          'scatter.edgecolors': 'face',\n",
              "          'scatter.marker': 'o',\n",
              "          'svg.fonttype': 'path',\n",
              "          'svg.hashsalt': None,\n",
              "          'svg.image_inline': True,\n",
              "          'text.antialiased': True,\n",
              "          'text.color': 'black',\n",
              "          'text.hinting': 'force_autohint',\n",
              "          'text.hinting_factor': 8,\n",
              "          'text.kerning_factor': 0,\n",
              "          'text.latex.preamble': '',\n",
              "          'text.usetex': False,\n",
              "          'timezone': 'UTC',\n",
              "          'tk.window_focus': False,\n",
              "          'toolbar': 'toolbar2',\n",
              "          'webagg.address': '127.0.0.1',\n",
              "          'webagg.open_in_browser': True,\n",
              "          'webagg.port': 8988,\n",
              "          'webagg.port_retries': 50,\n",
              "          'xaxis.labellocation': 'center',\n",
              "          'xtick.alignment': 'center',\n",
              "          'xtick.bottom': True,\n",
              "          'xtick.color': 'black',\n",
              "          'xtick.direction': 'out',\n",
              "          'xtick.labelbottom': True,\n",
              "          'xtick.labelcolor': 'inherit',\n",
              "          'xtick.labelsize': 'medium',\n",
              "          'xtick.labeltop': False,\n",
              "          'xtick.major.bottom': True,\n",
              "          'xtick.major.pad': 3.5,\n",
              "          'xtick.major.size': 3.5,\n",
              "          'xtick.major.top': True,\n",
              "          'xtick.major.width': 0.8,\n",
              "          'xtick.minor.bottom': True,\n",
              "          'xtick.minor.pad': 3.4,\n",
              "          'xtick.minor.size': 2.0,\n",
              "          'xtick.minor.top': True,\n",
              "          'xtick.minor.visible': False,\n",
              "          'xtick.minor.width': 0.6,\n",
              "          'xtick.top': False,\n",
              "          'yaxis.labellocation': 'center',\n",
              "          'ytick.alignment': 'center_baseline',\n",
              "          'ytick.color': 'black',\n",
              "          'ytick.direction': 'out',\n",
              "          'ytick.labelcolor': 'inherit',\n",
              "          'ytick.labelleft': True,\n",
              "          'ytick.labelright': False,\n",
              "          'ytick.labelsize': 'medium',\n",
              "          'ytick.left': True,\n",
              "          'ytick.major.left': True,\n",
              "          'ytick.major.pad': 3.5,\n",
              "          'ytick.major.right': True,\n",
              "          'ytick.major.size': 3.5,\n",
              "          'ytick.major.width': 0.8,\n",
              "          'ytick.minor.left': True,\n",
              "          'ytick.minor.pad': 3.4,\n",
              "          'ytick.minor.right': True,\n",
              "          'ytick.minor.size': 2.0,\n",
              "          'ytick.minor.visible': False,\n",
              "          'ytick.minor.width': 0.6,\n",
              "          'ytick.right': False})"
            ]
          },
          "metadata": {},
          "execution_count": 282
        }
      ]
    },
    {
      "cell_type": "code",
      "source": [
        "#changing default settings\n",
        "pl.rcParams['font.size'] = 12"
      ],
      "metadata": {
        "id": "CHOhRAufg51e"
      },
      "execution_count": 314,
      "outputs": []
    },
    {
      "cell_type": "code",
      "source": [
        "myx = np.arange(10)\n",
        "myy= np.arange(0,100,10)\n",
        "myy2= np.linspace(0,25, 10)"
      ],
      "metadata": {
        "id": "e803Yo5BhOiw"
      },
      "execution_count": 294,
      "outputs": []
    },
    {
      "cell_type": "code",
      "source": [
        "#fig = pl.figure(figsize=(3,3))\n",
        "#ax = fig.add_subplot(1,1,1);"
      ],
      "metadata": {
        "id": "FVCfOJfBhqFJ"
      },
      "execution_count": 312,
      "outputs": []
    },
    {
      "cell_type": "code",
      "source": [
        "fig = pl.figure()\n",
        "ax1 = fig.add_subplot(121)\n",
        "ax2 = fig.add_subplot(122)\n",
        "ax1.plot(myx,myy,'k--',label = 'questo è il mio primo grafico')\n",
        "ax2.plot(myx,myy2, 'ro',ms=7,label = 'questo è il mio primo grafico')\n",
        "ax1.legend(fontsize=6);\n",
        "ax2.legend(fontsize=6);"
      ],
      "metadata": {
        "colab": {
          "base_uri": "https://localhost:8080/",
          "height": 285
        },
        "id": "tzQeg4wFh-Xf",
        "outputId": "cb8a77f3-88e8-4680-aa60-2885dd7412f7"
      },
      "execution_count": 318,
      "outputs": [
        {
          "output_type": "execute_result",
          "data": {
            "text/plain": [
              "<bound method _AxesBase.grid of <AxesSubplot:>>"
            ]
          },
          "metadata": {},
          "execution_count": 318
        },
        {
          "output_type": "display_data",
          "data": {
            "text/plain": [
              "<Figure size 432x288 with 2 Axes>"
            ],
            "image/png": "[encoded data removed]"
          },
          "metadata": {
            "needs_background": "light"
          }
        }
      ]
    },
    {
      "cell_type": "code",
      "source": [
        "pl.imshow(np.random.randn(10,10),interpolation = 'bilinear')\n",
        "pl.colorbar()"
      ],
      "metadata": {
        "colab": {
          "base_uri": "https://localhost:8080/",
          "height": 285
        },
        "id": "hf5wHcl0i6bJ",
        "outputId": "bb1febc7-6881-4c3b-a029-d7f91fe9b5ad"
      },
      "execution_count": 324,
      "outputs": [
        {
          "output_type": "execute_result",
          "data": {
            "text/plain": [
              "<matplotlib.colorbar.Colorbar at 0x7f338ab6fbe0>"
            ]
          },
          "metadata": {},
          "execution_count": 324
        },
        {
          "output_type": "display_data",
          "data": {
            "text/plain": [
              "<Figure size 432x288 with 2 Axes>"
            ],
            "image/png": "[encoded data removed]"
          },
          "metadata": {
            "needs_background": "light"
          }
        }
      ]
    },
    {
      "cell_type": "code",
      "source": [],
      "metadata": {
        "id": "_4Dxex7ukeGh"
      },
      "execution_count": null,
      "outputs": []
    }
  ]
}