{
  "nbformat": 4,
  "nbformat_minor": 0,
  "metadata": {
    "colab": {
      "provenance": [],
      "authorship_tag": "ABX9TyP6yAEIA2ovNRBSizvUp+QV",
      "include_colab_link": true
    },
    "kernelspec": {
      "name": "python3",
      "display_name": "Python 3"
    },
    "language_info": {
      "name": "python"
    }
  },
  "cells": [
    {
      "cell_type": "markdown",
      "metadata": {
        "id": "view-in-github",
        "colab_type": "text"
      },
      "source": [
        "<a href=\"https://colab.research.google.com/github/martinasimeone/MLPNS_MSimeone/blob/main/MLPNS_Homework.ipynb\" target=\"_parent\"><img src=\"https://colab.research.google.com/assets/colab-badge.svg\" alt=\"Open In Colab\"/></a>"
      ]
    },
    {
      "cell_type": "markdown",
      "source": [
        "##EXERCISE:\n",
        "* create a function that takes a string \\\\\n",
        "* checks if the string is a palindrome \\\\\n",
        "* returns 1 if true\n",
        "* return -1 if false\n",
        "* and also prints “Yes its a palindrome”\n",
        "* or “this is not a palindrome”\n",
        "* add a print statement that prints ONLY the unique part (rad in radar)"
      ],
      "metadata": {
        "id": "IKVkhhSW0fJF"
      }
    },
    {
      "cell_type": "code",
      "source": [
        "def pali(word):\n",
        "  if type(word) == str:\n",
        "    word = word.lower()\n",
        "    rword = word[::-1]\n",
        "    \n",
        "    if word == rword:\n",
        "      print(word,'è una parola palindroma')\n",
        "    else:\n",
        "      print(word, 'non è palindroma')\n",
        "  else:\n",
        "    print('Devi inserire una stringa')\n"
      ],
      "metadata": {
        "id": "-nKuwzKi0o3v"
      },
      "execution_count": null,
      "outputs": []
    },
    {
      "cell_type": "code",
      "source": [
        "pali('ciao')"
      ],
      "metadata": {
        "colab": {
          "base_uri": "https://localhost:8080/"
        },
        "id": "ZaPHCFA-0rIb",
        "outputId": "d697e780-c64a-49e3-d2c3-bb255edaaf6d"
      },
      "execution_count": null,
      "outputs": [
        {
          "output_type": "stream",
          "name": "stdout",
          "text": [
            "ciao non è palindroma\n"
          ]
        }
      ]
    },
    {
      "cell_type": "code",
      "source": [
        "pali('anna')"
      ],
      "metadata": {
        "colab": {
          "base_uri": "https://localhost:8080/"
        },
        "id": "FycwcevF00F2",
        "outputId": "804cb7c2-e2c5-4670-c16e-b9a64d3e1bfc"
      },
      "execution_count": null,
      "outputs": [
        {
          "output_type": "stream",
          "name": "stdout",
          "text": [
            "anna è una parola palindroma\n"
          ]
        }
      ]
    },
    {
      "cell_type": "markdown",
      "source": [
        "## EXERCISE:\n",
        "* create a numpy array containing numbers from 1 to 10\n",
        "* extract only even numbers with boolean operations\n",
        "* reverse it\n",
        "* make all those number odd "
      ],
      "metadata": {
        "id": "r2qxSkWy03nJ"
      }
    },
    {
      "cell_type": "code",
      "source": [
        "import numpy as np"
      ],
      "metadata": {
        "id": "C_BawStE09rm"
      },
      "execution_count": 26,
      "outputs": []
    },
    {
      "cell_type": "code",
      "source": [
        "array = np.arange(1,11)\n",
        "array"
      ],
      "metadata": {
        "colab": {
          "base_uri": "https://localhost:8080/"
        },
        "id": "w-P4q-Ev1E1I",
        "outputId": "98f83029-43b2-40ee-8005-6460e53f9804"
      },
      "execution_count": 34,
      "outputs": [
        {
          "output_type": "execute_result",
          "data": {
            "text/plain": [
              "array([ 1,  2,  3,  4,  5,  6,  7,  8,  9, 10])"
            ]
          },
          "metadata": {},
          "execution_count": 34
        }
      ]
    },
    {
      "cell_type": "code",
      "source": [
        "even = array[(array % 2) == 0]\n",
        "even"
      ],
      "metadata": {
        "colab": {
          "base_uri": "https://localhost:8080/"
        },
        "id": "hvsPJKaq2y2a",
        "outputId": "21856afd-4ebe-4186-9ab5-339619787dff"
      },
      "execution_count": 35,
      "outputs": [
        {
          "output_type": "execute_result",
          "data": {
            "text/plain": [
              "array([ 2,  4,  6,  8, 10])"
            ]
          },
          "metadata": {},
          "execution_count": 35
        }
      ]
    },
    {
      "cell_type": "code",
      "source": [
        "reven = even[::-1] \n",
        "reven"
      ],
      "metadata": {
        "colab": {
          "base_uri": "https://localhost:8080/"
        },
        "id": "NYPybyVh2-8l",
        "outputId": "99d3e12e-72ea-408a-f5a8-b2bab7bcf4e3"
      },
      "execution_count": 36,
      "outputs": [
        {
          "output_type": "execute_result",
          "data": {
            "text/plain": [
              "array([10,  8,  6,  4,  2])"
            ]
          },
          "metadata": {},
          "execution_count": 36
        }
      ]
    },
    {
      "cell_type": "code",
      "source": [
        "odd = even - 1\n",
        "odd"
      ],
      "metadata": {
        "colab": {
          "base_uri": "https://localhost:8080/"
        },
        "id": "llOejk-k3Sx2",
        "outputId": "fd75aa94-af57-4c18-8a64-b5fffceece1c"
      },
      "execution_count": 38,
      "outputs": [
        {
          "output_type": "execute_result",
          "data": {
            "text/plain": [
              "array([1, 3, 5, 7, 9])"
            ]
          },
          "metadata": {},
          "execution_count": 38
        }
      ]
    }
  ]
}